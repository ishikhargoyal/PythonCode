{
 "cells": [
  {
   "cell_type": "code",
   "execution_count": 1,
   "id": "3b6bd886",
   "metadata": {},
   "outputs": [],
   "source": [
    "#Syntax\n",
    "# IF some_condition:\n",
    "  #execute some code\n",
    "# ELIF some other condition:\n",
    "  #execute code\n",
    "#else:\n",
    "  #do something else\n"
   ]
  },
  {
   "cell_type": "code",
   "execution_count": 6,
   "id": "b9e6472f",
   "metadata": {},
   "outputs": [
    {
     "name": "stdout",
     "output_type": "stream",
     "text": [
      "feed me\n"
     ]
    }
   ],
   "source": [
    "hungry = True\n",
    "\n",
    "if hungry:\n",
    "    print('feed me')\n",
    "else:\n",
    "    print('i am not hungry')"
   ]
  },
  {
   "cell_type": "code",
   "execution_count": 11,
   "id": "f3b619e6",
   "metadata": {},
   "outputs": [
    {
     "name": "stdout",
     "output_type": "stream",
     "text": [
      "I do not know much\n"
     ]
    }
   ],
   "source": [
    "loc = 'Game'\n",
    "\n",
    "if loc =='Auto Shop':\n",
    "    print('cars are cool')\n",
    "elif loc =='Bank':\n",
    "    print('money is cool')\n",
    "elif loc =='Store':\n",
    "    print('get some grocery')\n",
    "else:\n",
    "    print('I do not know much')"
   ]
  },
  {
   "cell_type": "code",
   "execution_count": 12,
   "id": "65488d23",
   "metadata": {},
   "outputs": [
    {
     "name": "stdout",
     "output_type": "stream",
     "text": [
      "Hello Sammy\n"
     ]
    }
   ],
   "source": [
    "name = 'Sammy'\n",
    "\n",
    "if name == 'Frankie':\n",
    "    print('Hello Frankie')\n",
    "elif name == 'Sammy':\n",
    "    print('Hello Sammy')\n",
    "else:\n",
    "    print('What is your name')"
   ]
  },
  {
   "cell_type": "code",
   "execution_count": null,
   "id": "02b51b27",
   "metadata": {},
   "outputs": [],
   "source": []
  }
 ],
 "metadata": {
  "kernelspec": {
   "display_name": "Python 3",
   "language": "python",
   "name": "python3"
  },
  "language_info": {
   "codemirror_mode": {
    "name": "ipython",
    "version": 3
   },
   "file_extension": ".py",
   "mimetype": "text/x-python",
   "name": "python",
   "nbconvert_exporter": "python",
   "pygments_lexer": "ipython3",
   "version": "3.8.8"
  }
 },
 "nbformat": 4,
 "nbformat_minor": 5
}
