{
  "nbformat": 4,
  "nbformat_minor": 0,
  "metadata": {
    "colab": {
      "name": "Shikhar Goyal MMA/GMMA 2022 869 Individual Assignment.ipynb",
      "provenance": [],
      "collapsed_sections": []
    },
    "kernelspec": {
      "display_name": "Python 3",
      "name": "python3"
    }
  },
  "cells": [
    {
      "cell_type": "markdown",
      "metadata": {
        "id": "HKmorPdno_n_"
      },
      "source": [
        "# MMA/GMMA/MMAI 869: Individual Assignment\n",
        "\n",
        "Version 1: Updated September 27, 2021\n",
        "\n",
        "<font color='red'>\\# TODO: fill in the below</font>\n",
        "\n",
        "- [Shikhar, Goyal]\n",
        "- [20244860]\n",
        "- [Section 1]\n",
        "- [Whaledone]\n",
        "- [11/Dec/2021]"
      ]
    },
    {
      "cell_type": "markdown",
      "metadata": {
        "id": "emfFtv4aHBI1"
      },
      "source": [
        "# Assignment Instructions\n",
        "\n",
        "This assignment contains four questions. The questions are fully contained in this Google Colab Notebook. \n",
        "\n",
        "You are to make a copy of this Notebook and edit the copy to provide your answers. You are to complete the assignment entirely within Google Colab. Why?\n",
        "\n",
        "- It gives you practice using cloud-based interactive notebook environments (which is a popular workflow)\n",
        "- It is easier for you to manage the environment (e.g., installing packages, etc.)\n",
        "- Google Colab has nice, beefy machines, so you don't have to worry about running out of memory on your local computer.\n",
        "- It will be easier for the TA to help you debug your code if you need help\n",
        "- It will be easier for the TA to mark/run your code\n",
        "\n",
        "Some parts of this assigment require you to write code. Use Python or R. For Python, you may use standard Python libraries, including `scikit-learn`, `pandas`, `numpy`, and `scipy`. For R, you may use `dplyr`, `caret`, `ggplot2`, `rpart` and other standard libraries.\n",
        "\n",
        "Some parts of this assignment require text responses. In these cases, type your response in the Notebook cell indicated. Use English. Use proper grammar, spelling, and punctuation. Be professional and clear. Be complete, but not overly-verbose. Feel free to use [Markdown syntax](https://www.markdownguide.org/basic-syntax/) to format your answer (i.e., add bold, italics, lists, tables).\n",
        "\n",
        "## What to Submit to the Course Portal\n",
        "\n",
        "- Export your completed Notebook as a PDF file by clicking File->Print->Save as PDF.\n",
        "- Please do not submit the Notebook file (`.ipynb`) to the course portal. \n",
        "- Please submit the PDF export of the Notebook. \n",
        "   - Please name the PDF file `2022_869_FirstnameLastName.pdf`\n",
        "      - E.g., `2022_869_StephenThomas.pdf`\n",
        "   - Please make sure you have run all the cells so we can see the output!\n",
        "   - Best practice: Before exporting to PDF click Runtime->Restart and run all.\n",
        "\n"
      ]
    },
    {
      "cell_type": "markdown",
      "metadata": {
        "id": "oZFTCX4DqmRO"
      },
      "source": [
        "# Preliminaries: Inspect and Set up environment\n",
        "\n",
        "No action is required on your part in this section. These cells print out helpful information about the environment, just in case."
      ]
    },
    {
      "cell_type": "code",
      "metadata": {
        "id": "xj34Jz-Do_oK"
      },
      "source": [
        "import datetime\n",
        "import pandas as pd\n",
        "import numpy as np"
      ],
      "execution_count": 2,
      "outputs": []
    },
    {
      "cell_type": "code",
      "metadata": {
        "colab": {
          "base_uri": "https://localhost:8080/",
          "height": 0
        },
        "id": "mqQ_XOKyXTS6",
        "outputId": "71db4c49-84d2-4300-bb21-19328d9eff13"
      },
      "source": [
        "print(datetime.datetime.now())"
      ],
      "execution_count": 3,
      "outputs": [
        {
          "output_type": "stream",
          "name": "stdout",
          "text": [
            "2021-12-11 03:17:04.479363\n"
          ]
        }
      ]
    },
    {
      "cell_type": "code",
      "metadata": {
        "colab": {
          "base_uri": "https://localhost:8080/",
          "height": 0
        },
        "id": "LfOMt1lErLhZ",
        "outputId": "1fbf70a2-c27e-4560-eeef-566b4c5e4fe1"
      },
      "source": [
        "!which python"
      ],
      "execution_count": 4,
      "outputs": [
        {
          "output_type": "stream",
          "name": "stdout",
          "text": [
            "/usr/local/bin/python\n"
          ]
        }
      ]
    },
    {
      "cell_type": "code",
      "metadata": {
        "colab": {
          "base_uri": "https://localhost:8080/",
          "height": 0
        },
        "id": "aub2w1-arM5K",
        "outputId": "ce038e70-f7c8-40a7-9e69-2d742d3f6893"
      },
      "source": [
        "!python --version"
      ],
      "execution_count": 5,
      "outputs": [
        {
          "output_type": "stream",
          "name": "stdout",
          "text": [
            "Python 3.7.12\n"
          ]
        }
      ]
    },
    {
      "cell_type": "code",
      "metadata": {
        "colab": {
          "base_uri": "https://localhost:8080/",
          "height": 0
        },
        "id": "E9Y_n_8UrO9i",
        "outputId": "aab3355f-1cb5-4c4c-9827-7064e6f5c5ef"
      },
      "source": [
        "!echo $PYTHONPATH"
      ],
      "execution_count": 6,
      "outputs": [
        {
          "output_type": "stream",
          "name": "stdout",
          "text": [
            "/env/python\n"
          ]
        }
      ]
    },
    {
      "cell_type": "code",
      "metadata": {
        "colab": {
          "base_uri": "https://localhost:8080/",
          "height": 131
        },
        "id": "-qyD7Jl0Gw1E",
        "outputId": "23d3dc54-1162-494e-c010-a63a0c72412f"
      },
      "source": [
        "# TODO: install any packages you need to here. For example:\n",
        "#pip install unidecode"
      ],
      "execution_count": null,
      "outputs": [
        {
          "ename": "SyntaxError",
          "evalue": "ignored",
          "output_type": "error",
          "traceback": [
            "\u001b[0;36m  File \u001b[0;32m\"<ipython-input-37-77635c07a209>\"\u001b[0;36m, line \u001b[0;32m3\u001b[0m\n\u001b[0;31m    pip install category_encoders\u001b[0m\n\u001b[0m              ^\u001b[0m\n\u001b[0;31mSyntaxError\u001b[0m\u001b[0;31m:\u001b[0m invalid syntax\n"
          ]
        }
      ]
    },
    {
      "cell_type": "markdown",
      "metadata": {
        "id": "RLlBjIyS2o54"
      },
      "source": [
        "# Question 1: Uncle Steve's Diamonds"
      ]
    },
    {
      "cell_type": "markdown",
      "metadata": {
        "id": "qj1NSQelo_oN"
      },
      "source": [
        "## Instructions\n",
        "\n",
        "You work at a local jewelry store named *Uncle Steve's Diamonds*. You started as a janitor, but you’ve recently been promoted to senior data analyst! Congratulations.\n",
        "\n",
        "Uncle Steve, the store's owner, needs to better understand the store's customers. In particular, he wants to know what kind of customers shop at the store. He wants to know the main types of *customer personas*. Once he knows these, he will contemplate ways to better market to each persona, better satisfy each persona, better cater to each persona, increase the loyalty of each persona, etc. But first, he must know the personas.\n",
        "\n",
        "You want to help Uncle Steve. Using sneaky magic (and the help of Environics), you've collected four useful features for a subset of the customers: age, income, spending score (i.e., a score based on how much they’ve spent at the store in total), and savings (i.e., how much money they have in their personal bank account). \n",
        "\n",
        "**Your tasks**\n",
        "\n",
        "1. Pick a clustering algorithm (the [`sklearn.cluster`](https://scikit-learn.org/stable/modules/classes.html#module-sklearn.cluster) module has many good choices, including [`KMeans`](https://scikit-learn.org/stable/modules/generated/sklearn.cluster.KMeans.html#sklearn.cluster.KMeans), [`DBSCAN`](https://scikit-learn.org/stable/modules/generated/sklearn.cluster.DBSCAN.html#sklearn.cluster.DBSCAN), and [`AgglomerativeClustering`](https://scikit-learn.org/stable/modules/generated/sklearn.cluster.AgglomerativeClustering.html#sklearn.cluster.AgglomerativeClustering) (aka Hierarchical)). (Note that another popular implementation of the hierarchical algorithm can be found in SciPy's [`scipy.cluster.hierarchy.linkage`](https://docs.scipy.org/doc/scipy/reference/generated/scipy.cluster.hierarchy.linkage.html).) Don't spend a lot of time thinking about which algorithm to choose - just pick one. Cluster the customers as best as you can, within reason. That is, try different feature preprocessing steps, hyperparameter values, and/or distance metrics. You don't need to try every posssible combination, but try a few at least. Measure how good each  model configuration is by calculating an internal validation metric (e.g., [`calinski_harabasz_score`](https://scikit-learn.org/stable/modules/generated/sklearn.metrics.calinski_harabasz_score.html) or [`silhouette_score`](https://scikit-learn.org/stable/modules/generated/sklearn.metrics.silhouette_score.html#sklearn.metrics.silhouette_score)).\n",
        "2. You have some doubts - you're not sure if the algorithm you chose in part 1 is the best algorithm for this dataset/problem. Neither is Uncle Steve. So, choose a different algorithm (any!) and do it all again.\n",
        "3. Which clustering algorithm is \"better\" in this case? Think about charateristics of the algorithm like quality of results, ease of use, speed, interpretability, etc. Choose a \"winner\" and justify to Uncle Steve.\n",
        "4. Interpret the clusters of the winning model. That is, describe, in words, a *persona* that accurately depicts each cluster. Use statistics (e.g., cluster means/distributions), examples (e.g., exemplar instances from each cluster), and/or visualizations (e.g., relative importance plots, snakeplots) to get started. Human judgement and creativity will be necessary. This is where it all comes together. Be descripive and *help Uncle Steve understand his customers better*. Please!\n",
        "\n",
        "**Marking**\n",
        "\n",
        "The coding parts (i.e., 1 and 2) will be marked based on:\n",
        "\n",
        "- *Correctness*. Code clearly and fully performs the task specified.\n",
        "- *Reproducibility*. Code is fully reproducible. I.e., you (and I) are able to run this Notebook again and again, from top to bottom, and get the same results each time.\n",
        "- *Style*. Code is organized. All parts commented with clear reasoning and rationale. No old code laying around. Code easy to follow.\n",
        "\n",
        "\n",
        "Parts 3 and 4 will be marked on:\n",
        "\n",
        "- *Quality*. Response is well-justified and convincing. Responses uses facts and data where possible.\n",
        "- *Style*. Response uses proper grammar, spelling, and punctuation. Response is clear and professional. Response is complete, but not overly-verbose. Response follows length guidelines.\n",
        "\n",
        "\n",
        "**Tips**\n",
        "\n",
        "- Since clustering is an unsupervised ML technique, you don't need to split the data into training/validation/test or anything like that. Phew!\n",
        "- On the flip side, since clustering is unsupervised, you will never know the \"true\" clusters, and so you will never know if a given algorithm is \"correct.\" There really is no notion of \"correctness\" - only \"usefullness.\"\n",
        "- Many online clustering tutorials (including some from Uncle Steve) create flashy visualizations of the clusters by plotting the instances on a 2-D graph and coloring each point by the cluster ID. This is really nice and all, but it can only work if your dataset only has exactly two features - no more, no less. This dataset has more than two features, so you cannot use this technique. (But that's OK - you don't need to use this technique.) \n",
        "- Must you use all four features in the clustering? Not necessarily, no. But \"throwing away\" quality data, for no reason, is unlikely to improve a model.\n",
        "- Some people have success applying a dimensionality reduction technique (like [`sklearn.decomposition.PCA`](https://scikit-learn.org/stable/modules/generated/sklearn.decomposition.PCA.html)) to the features before clustering. You may do this if you wish, although it may not be as helpful in this case because there are only four features to begin with.\n",
        "- If you apply a transformation (e.g., [`MinMaxScaler`](https://scikit-learn.org/stable/modules/generated/sklearn.preprocessing.MinMaxScaler.html) or [`StandardScaler`](https://scikit-learn.org/stable/modules/generated/sklearn.preprocessing.StandardScaler.html#sklearn.preprocessing.StandardScaler)) to the features before clustering, you may have difficulty interpretting the means of the clusters (e.g., what is a mean Age of 0.2234??). There are two options to fix this: first, you can always reverse a transformation with the `inverse_transform` method. Second, you can just use the original dataset (i.e., before any prepropoceesing) during the interpreation step.\n",
        "- You cannot change the distance metric for K-Means. (This is for theoretical reasons: K-Means only works/makes sense with Euclidean distance.)\n"
      ]
    },
    {
      "cell_type": "markdown",
      "metadata": {
        "id": "Yww0-vtpOw7z"
      },
      "source": [
        "## 1.0: Load data "
      ]
    },
    {
      "cell_type": "code",
      "metadata": {
        "colab": {
          "base_uri": "https://localhost:8080/"
        },
        "id": "qVWx2c-DhQYo",
        "outputId": "88a70fcd-aa54-4ac7-a2b7-0e6415eb4f46"
      },
      "source": [
        "# DO NOT MODIFY THIS CELL\n",
        "df = pd.read_csv(\"https://drive.google.com/uc?export=download&id=1thHDCwQK3GijytoSSZNekAsItN_FGHtm\")\n",
        "df.info()"
      ],
      "execution_count": null,
      "outputs": [
        {
          "output_type": "stream",
          "name": "stdout",
          "text": [
            "<class 'pandas.core.frame.DataFrame'>\n",
            "RangeIndex: 505 entries, 0 to 504\n",
            "Data columns (total 4 columns):\n",
            " #   Column         Non-Null Count  Dtype  \n",
            "---  ------         --------------  -----  \n",
            " 0   Age            505 non-null    int64  \n",
            " 1   Income         505 non-null    int64  \n",
            " 2   SpendingScore  505 non-null    float64\n",
            " 3   Savings        505 non-null    float64\n",
            "dtypes: float64(2), int64(2)\n",
            "memory usage: 15.9 KB\n"
          ]
        }
      ]
    },
    {
      "cell_type": "code",
      "source": [
        "df1 = df"
      ],
      "metadata": {
        "id": "3meGNpGpDFg7"
      },
      "execution_count": null,
      "outputs": []
    },
    {
      "cell_type": "markdown",
      "metadata": {
        "id": "R04NzckZKbG2"
      },
      "source": [
        "## 1.1: Clustering Algorithm #1"
      ]
    },
    {
      "cell_type": "code",
      "metadata": {
        "id": "Qeavkicwo_oN"
      },
      "source": [
        "from sklearn.preprocessing import StandardScaler"
      ],
      "execution_count": null,
      "outputs": []
    },
    {
      "cell_type": "code",
      "metadata": {
        "colab": {
          "base_uri": "https://localhost:8080/"
        },
        "id": "NTvcoMK93RF5",
        "outputId": "5513d40a-df5e-4836-9ea8-7d109d4ffa88"
      },
      "source": [
        "#Creating object for Standard Scaler\n",
        "scaler = StandardScaler()\n",
        "df1 = scaler.fit_transform(df1)\n",
        "df1"
      ],
      "execution_count": null,
      "outputs": [
        {
          "output_type": "execute_result",
          "data": {
            "text/plain": [
              "array([[-4.22871323e-02,  6.27330450e-02,  1.10359261e+00,\n",
              "        -1.07246676e+00],\n",
              "       [-8.21109365e-04,  1.74810526e-01,  1.10264136e+00,\n",
              "        -1.30347264e+00],\n",
              "       [ 1.23576959e-01, -2.11999168e-02,  7.61727378e-01,\n",
              "        -5.26555609e-01],\n",
              "       ...,\n",
              "       [ 1.28462560e+00, -1.11844679e+00, -5.78054216e-01,\n",
              "         8.55312853e-01],\n",
              "       [ 1.32609162e+00, -1.52492929e+00, -5.79865675e-01,\n",
              "         1.32245159e+00],\n",
              "       [ 1.24315958e+00, -1.25833506e+00, -8.31889623e-01,\n",
              "         5.10463045e-01]])"
            ]
          },
          "metadata": {},
          "execution_count": 10
        }
      ]
    },
    {
      "cell_type": "code",
      "metadata": {
        "colab": {
          "base_uri": "https://localhost:8080/"
        },
        "id": "oBKrq6Au5P5v",
        "outputId": "be7dc2ef-fe20-49e8-d330-8cb1721ebeca"
      },
      "source": [
        "#Creating KMeans Clustering Model\n",
        "from sklearn.cluster import KMeans\n",
        "k_means = KMeans(init = \"k-means++\",\n",
        "                 n_clusters = 4,\n",
        "                 n_init = 150,\n",
        "                 random_state = 16)\n",
        "k_means.fit(df1)\n",
        "              "
      ],
      "execution_count": null,
      "outputs": [
        {
          "output_type": "execute_result",
          "data": {
            "text/plain": [
              "KMeans(n_clusters=4, n_init=150, random_state=16)"
            ]
          },
          "metadata": {},
          "execution_count": 11
        }
      ]
    },
    {
      "cell_type": "code",
      "metadata": {
        "id": "gTSvkWAy5qNO"
      },
      "source": [
        "labels = k_means.labels_"
      ],
      "execution_count": null,
      "outputs": []
    },
    {
      "cell_type": "code",
      "metadata": {
        "colab": {
          "base_uri": "https://localhost:8080/"
        },
        "id": "kf96wCsB6UVN",
        "outputId": "b1aa2507-86b7-4da1-f9e1-1b474fc11ff2"
      },
      "source": [
        "k_means.cluster_centers_"
      ],
      "execution_count": null,
      "outputs": [
        {
          "output_type": "execute_result",
          "data": {
            "text/plain": [
              "array([[ 0.03879611, -0.08524639,  1.02721559, -1.00569483],\n",
              "       [ 1.19238486, -1.32510593, -0.67963841,  0.97016358],\n",
              "       [-0.72276928,  0.89502598, -0.90658925,  0.62188649],\n",
              "       [-1.44466803,  1.46050665,  1.51057952, -1.57249636]])"
            ]
          },
          "metadata": {},
          "execution_count": 13
        }
      ]
    },
    {
      "cell_type": "code",
      "metadata": {
        "colab": {
          "base_uri": "https://localhost:8080/"
        },
        "id": "lWAhkf4-7hZk",
        "outputId": "0429298c-71cd-4cd0-dc7f-d9c9616c2466"
      },
      "source": [
        "output = scaler.inverse_transform(k_means.cluster_centers_)\n",
        "output"
      ],
      "execution_count": null,
      "outputs": [
        {
          "output_type": "execute_result",
          "data": {
            "text/plain": [
              "array([[5.99554140e+01, 7.24480637e+04, 7.71518368e-01, 6.88997219e+03],\n",
              "       [8.77755102e+01, 2.78661020e+04, 3.28800461e-01, 1.66592614e+04],\n",
              "       [4.15894040e+01, 1.07695980e+05, 2.69934734e-01, 1.49372658e+04],\n",
              "       [2.41800000e+01, 1.28029120e+05, 8.96891640e-01, 4.08752031e+03]])"
            ]
          },
          "metadata": {},
          "execution_count": 14
        }
      ]
    },
    {
      "cell_type": "code",
      "metadata": {
        "colab": {
          "base_uri": "https://localhost:8080/",
          "height": 175
        },
        "id": "sYhXbjzhTjPe",
        "outputId": "3d0c2b9d-e132-4980-8a61-dbcde684eaf2"
      },
      "source": [
        "df2 = pd.DataFrame(data = output,columns=[\"Age\",\"Income\",\"SpendingScore\",\"Savings\"])\n",
        "df2"
      ],
      "execution_count": null,
      "outputs": [
        {
          "output_type": "execute_result",
          "data": {
            "text/html": [
              "<div>\n",
              "<style scoped>\n",
              "    .dataframe tbody tr th:only-of-type {\n",
              "        vertical-align: middle;\n",
              "    }\n",
              "\n",
              "    .dataframe tbody tr th {\n",
              "        vertical-align: top;\n",
              "    }\n",
              "\n",
              "    .dataframe thead th {\n",
              "        text-align: right;\n",
              "    }\n",
              "</style>\n",
              "<table border=\"1\" class=\"dataframe\">\n",
              "  <thead>\n",
              "    <tr style=\"text-align: right;\">\n",
              "      <th></th>\n",
              "      <th>Age</th>\n",
              "      <th>Income</th>\n",
              "      <th>SpendingScore</th>\n",
              "      <th>Savings</th>\n",
              "    </tr>\n",
              "  </thead>\n",
              "  <tbody>\n",
              "    <tr>\n",
              "      <th>0</th>\n",
              "      <td>59.955414</td>\n",
              "      <td>72448.063694</td>\n",
              "      <td>0.771518</td>\n",
              "      <td>6889.972190</td>\n",
              "    </tr>\n",
              "    <tr>\n",
              "      <th>1</th>\n",
              "      <td>87.775510</td>\n",
              "      <td>27866.102041</td>\n",
              "      <td>0.328800</td>\n",
              "      <td>16659.261445</td>\n",
              "    </tr>\n",
              "    <tr>\n",
              "      <th>2</th>\n",
              "      <td>41.589404</td>\n",
              "      <td>107695.980132</td>\n",
              "      <td>0.269935</td>\n",
              "      <td>14937.265769</td>\n",
              "    </tr>\n",
              "    <tr>\n",
              "      <th>3</th>\n",
              "      <td>24.180000</td>\n",
              "      <td>128029.120000</td>\n",
              "      <td>0.896892</td>\n",
              "      <td>4087.520309</td>\n",
              "    </tr>\n",
              "  </tbody>\n",
              "</table>\n",
              "</div>"
            ],
            "text/plain": [
              "         Age         Income  SpendingScore       Savings\n",
              "0  59.955414   72448.063694       0.771518   6889.972190\n",
              "1  87.775510   27866.102041       0.328800  16659.261445\n",
              "2  41.589404  107695.980132       0.269935  14937.265769\n",
              "3  24.180000  128029.120000       0.896892   4087.520309"
            ]
          },
          "metadata": {},
          "execution_count": 15
        }
      ]
    },
    {
      "cell_type": "code",
      "metadata": {
        "colab": {
          "base_uri": "https://localhost:8080/"
        },
        "id": "sQGzc2FAhq_q",
        "outputId": "90657f73-8b33-44c9-e9dd-b05a91315f7b"
      },
      "source": [
        "#Evaluating the performance of the model using Calinski-Harabasz score\n",
        "from sklearn import metrics\n",
        "from sklearn.metrics import pairwise_distances\n",
        "metrics.calinski_harabasz_score(df1,labels)"
      ],
      "execution_count": null,
      "outputs": [
        {
          "output_type": "execute_result",
          "data": {
            "text/plain": [
              "1611.2647365421865"
            ]
          },
          "metadata": {},
          "execution_count": 16
        }
      ]
    },
    {
      "cell_type": "code",
      "metadata": {
        "id": "vLtyOZ4VOsv1"
      },
      "source": [
        "#Evaluating the performance of the model using Silhoutte measure\n",
        "from sklearn.metrics import silhouette_score,silhouette_samples"
      ],
      "execution_count": null,
      "outputs": []
    },
    {
      "cell_type": "code",
      "metadata": {
        "colab": {
          "base_uri": "https://localhost:8080/"
        },
        "id": "LdI4DsqOPy75",
        "outputId": "a8a6759c-ed75-4dbb-b6ae-ef07e069b906"
      },
      "source": [
        "#Performing internal validation by looking at the clusters inertia\n",
        "k_means.inertia_"
      ],
      "execution_count": null,
      "outputs": [
        {
          "output_type": "execute_result",
          "data": {
            "text/plain": [
              "189.70178796659565"
            ]
          },
          "metadata": {},
          "execution_count": 18
        }
      ]
    },
    {
      "cell_type": "code",
      "metadata": {
        "colab": {
          "base_uri": "https://localhost:8080/"
        },
        "id": "CEM_nwKvQQMN",
        "outputId": "080cec4d-bf44-4aaf-a024-222d59fe8642"
      },
      "source": [
        "#Getting the Silhouette Score\n",
        "silhouette_score(df1,k_means.labels_)"
      ],
      "execution_count": null,
      "outputs": [
        {
          "output_type": "execute_result",
          "data": {
            "text/plain": [
              "0.7581191889903789"
            ]
          },
          "metadata": {},
          "execution_count": 19
        }
      ]
    },
    {
      "cell_type": "code",
      "metadata": {
        "id": "-3vMbzsZRTSO"
      },
      "source": [
        "#Determining best K value by using ELbow Method\n",
        "inertias = {}\n",
        "silhouettes = {}\n",
        "for k in range(2,8):\n",
        "  kmeans = KMeans(n_clusters = k, random_state =16).fit(df1)\n",
        "  inertias[k] = kmeans.inertia_\n",
        "  silhouettes[k] = silhouette_score(df1,kmeans.labels_,metric = 'euclidean')"
      ],
      "execution_count": null,
      "outputs": []
    },
    {
      "cell_type": "code",
      "metadata": {
        "id": "uByXMZp0IZEI"
      },
      "source": [
        "import matplotlib.pyplot as plt"
      ],
      "execution_count": null,
      "outputs": []
    },
    {
      "cell_type": "code",
      "metadata": {
        "colab": {
          "base_uri": "https://localhost:8080/",
          "height": 590
        },
        "id": "yRTkziojS1yY",
        "outputId": "2cc994e8-f774-48fd-88b3-f58b918550a8"
      },
      "source": [
        "plt.figure();\n",
        "plt.plot(list(inertias.keys()),list(inertias.values()));\n",
        "plt.title('K-Means,Elbow Method')\n",
        "plt.xlabel(\"Number of clusters,K\");\n",
        "plt.ylabel(\"Inertia\");\n",
        "\n",
        "plt.figure();\n",
        "plt.plot(list(silhouettes.keys()),list(silhouettes.values()));\n",
        "plt.title('KMeans, Elbow Method')\n",
        "plt.xlabel(\"Number of clusters,K\");\n",
        "plt.ylabel(\"Silouette\")"
      ],
      "execution_count": null,
      "outputs": [
        {
          "output_type": "execute_result",
          "data": {
            "text/plain": [
              "Text(0, 0.5, 'Silouette')"
            ]
          },
          "metadata": {},
          "execution_count": 25
        },
        {
          "output_type": "display_data",
          "data": {
            "image/png": "[encoded data removed]",
            "text/plain": [
              "<Figure size 432x288 with 1 Axes>"
            ]
          },
          "metadata": {
            "needs_background": "light"
          }
        },
        {
          "output_type": "display_data",
          "data": {
            "image/png": "[encoded data removed]",
            "text/plain": [
              "<Figure size 432x288 with 1 Axes>"
            ]
          },
          "metadata": {
            "needs_background": "light"
          }
        }
      ]
    },
    {
      "cell_type": "markdown",
      "source": [
        "The optimal value of K determined by Elbow method is 5"
      ],
      "metadata": {
        "id": "x6jamm1uDtVY"
      }
    },
    {
      "cell_type": "markdown",
      "metadata": {
        "id": "zHVbLitdI8p4"
      },
      "source": [
        "### KMeans Cluster with 5 clusters\n",
        "\n",
        "\n",
        "\n"
      ]
    },
    {
      "cell_type": "code",
      "metadata": {
        "id": "Yjhls4UgPRMG"
      },
      "source": [
        "#Clustering the data using K = 5\n",
        "k_mean2 = KMeans(init = \"k-means++\",\n",
        "                 n_clusters = 5,\n",
        "                 n_init = 150,\n",
        "                 random_state = 16)"
      ],
      "execution_count": null,
      "outputs": []
    },
    {
      "cell_type": "code",
      "metadata": {
        "id": "yyqz2H6LPRSU"
      },
      "source": [
        "#fitting the KMean to the dataset\n",
        "k_mean2 = k_mean2.fit(df1)"
      ],
      "execution_count": null,
      "outputs": []
    },
    {
      "cell_type": "code",
      "metadata": {
        "colab": {
          "base_uri": "https://localhost:8080/"
        },
        "id": "lHnlqr39UM0f",
        "outputId": "50211cda-4b65-4d1c-bab0-5b371c279025"
      },
      "source": [
        "#Creating object for Labels\n",
        "labels2 = k_mean2.labels_\n",
        "labels2"
      ],
      "execution_count": null,
      "outputs": [
        {
          "output_type": "execute_result",
          "data": {
            "text/plain": [
              "array([0, 0, 0, 0, 1, 3, 0, 1, 1, 1, 4, 2, 2, 2, 0, 4, 0, 1, 1, 4, 2, 4,\n",
              "       0, 1, 4, 3, 3, 0, 1, 0, 0, 0, 1, 0, 2, 0, 1, 0, 2, 2, 0, 1, 3, 0,\n",
              "       0, 3, 4, 3, 2, 0, 1, 2, 3, 1, 0, 1, 2, 1, 1, 1, 1, 1, 1, 0, 0, 0,\n",
              "       1, 3, 3, 0, 0, 2, 1, 1, 2, 0, 2, 0, 0, 3, 0, 4, 0, 1, 1, 2, 2, 0,\n",
              "       0, 0, 0, 0, 3, 1, 0, 3, 2, 0, 0, 2, 2, 3, 2, 3, 2, 1, 1, 2, 2, 0,\n",
              "       1, 2, 0, 2, 2, 2, 0, 2, 3, 1, 2, 1, 1, 1, 2, 4, 0, 1, 0, 0, 2, 0,\n",
              "       2, 0, 3, 1, 4, 3, 0, 2, 1, 0, 0, 3, 0, 3, 0, 4, 0, 1, 0, 2, 1, 0,\n",
              "       1, 4, 2, 0, 1, 0, 2, 1, 0, 2, 1, 2, 1, 0, 2, 0, 1, 0, 2, 0, 1, 0,\n",
              "       0, 1, 1, 1, 0, 0, 2, 3, 3, 1, 2, 0, 0, 0, 2, 1, 0, 0, 0, 1, 3, 2,\n",
              "       1, 1, 1, 2, 0, 2, 0, 2, 0, 1, 3, 0, 1, 1, 1, 1, 0, 1, 2, 3, 2, 1,\n",
              "       0, 0, 2, 1, 2, 3, 2, 0, 0, 1, 0, 0, 1, 0, 0, 0, 2, 0, 2, 2, 3, 0,\n",
              "       0, 0, 4, 0, 2, 1, 3, 3, 3, 1, 0, 2, 1, 1, 2, 2, 0, 0, 4, 0, 0, 1,\n",
              "       0, 1, 2, 3, 0, 2, 1, 0, 1, 1, 2, 0, 1, 1, 0, 0, 1, 2, 2, 4, 2, 1,\n",
              "       1, 2, 4, 1, 1, 3, 0, 2, 2, 0, 2, 1, 1, 2, 0, 2, 1, 0, 2, 3, 0, 1,\n",
              "       2, 2, 1, 4, 4, 0, 1, 2, 0, 0, 1, 2, 1, 2, 1, 2, 1, 1, 2, 1, 2, 0,\n",
              "       2, 0, 0, 2, 2, 1, 1, 3, 3, 2, 1, 3, 1, 4, 0, 0, 0, 1, 1, 2, 2, 4,\n",
              "       2, 4, 0, 2, 3, 1, 0, 1, 3, 0, 1, 1, 0, 1, 2, 0, 4, 2, 2, 0, 1, 1,\n",
              "       1, 1, 1, 2, 2, 1, 0, 2, 0, 4, 1, 1, 0, 1, 1, 0, 1, 1, 2, 1, 0, 2,\n",
              "       3, 2, 0, 1, 2, 0, 0, 0, 1, 2, 3, 2, 0, 2, 0, 0, 3, 2, 4, 3, 2, 2,\n",
              "       1, 0, 1, 2, 1, 2, 0, 0, 1, 4, 2, 1, 2, 0, 0, 2, 0, 1, 0, 2, 0, 1,\n",
              "       0, 1, 3, 2, 2, 3, 2, 2, 1, 1, 0, 3, 0, 2, 2, 4, 3, 2, 3, 1, 2, 2,\n",
              "       0, 2, 1, 1, 3, 0, 2, 0, 0, 2, 0, 0, 0, 1, 2, 2, 0, 0, 0, 1, 2, 1,\n",
              "       1, 1, 1, 3, 1, 1, 1, 0, 0, 1, 1, 0, 3, 1, 2, 3, 2, 1, 1, 1, 1],\n",
              "      dtype=int32)"
            ]
          },
          "metadata": {},
          "execution_count": 28
        }
      ]
    },
    {
      "cell_type": "code",
      "metadata": {
        "colab": {
          "base_uri": "https://localhost:8080/"
        },
        "id": "F_gPImHNUS5o",
        "outputId": "813f96a5-1748-4d86-90fb-f2468c84ce34"
      },
      "source": [
        "#Inverse transformation from Scaled values\n",
        "output2 = scaler.inverse_transform(k_mean2.cluster_centers_)\n",
        "output2"
      ],
      "execution_count": null,
      "outputs": [
        {
          "output_type": "execute_result",
          "data": {
            "text/plain": [
              "array([[5.99554140e+01, 7.24480637e+04, 7.71518368e-01, 6.88997219e+03],\n",
              "       [8.77755102e+01, 2.78661020e+04, 3.28800461e-01, 1.66592614e+04],\n",
              "       [3.27777778e+01, 1.05265810e+05, 3.09926130e-01, 1.49627781e+04],\n",
              "       [2.41800000e+01, 1.28029120e+05, 8.96891640e-01, 4.08752031e+03],\n",
              "       [8.60000000e+01, 1.19944040e+05, 6.83780993e-02, 1.48086838e+04]])"
            ]
          },
          "metadata": {},
          "execution_count": 29
        }
      ]
    },
    {
      "cell_type": "code",
      "metadata": {
        "colab": {
          "base_uri": "https://localhost:8080/",
          "height": 206
        },
        "id": "1UiyNFfYUqFV",
        "outputId": "0774495b-32f0-4f1d-d829-8ce13d018699"
      },
      "source": [
        "#Creating a dataframe of the new output\n",
        "df3 = pd.DataFrame(output2,columns=[\"Age\",\"Income\",\"SpendingScore\",\"Savings\"])\n",
        "df3"
      ],
      "execution_count": null,
      "outputs": [
        {
          "output_type": "execute_result",
          "data": {
            "text/html": [
              "<div>\n",
              "<style scoped>\n",
              "    .dataframe tbody tr th:only-of-type {\n",
              "        vertical-align: middle;\n",
              "    }\n",
              "\n",
              "    .dataframe tbody tr th {\n",
              "        vertical-align: top;\n",
              "    }\n",
              "\n",
              "    .dataframe thead th {\n",
              "        text-align: right;\n",
              "    }\n",
              "</style>\n",
              "<table border=\"1\" class=\"dataframe\">\n",
              "  <thead>\n",
              "    <tr style=\"text-align: right;\">\n",
              "      <th></th>\n",
              "      <th>Age</th>\n",
              "      <th>Income</th>\n",
              "      <th>SpendingScore</th>\n",
              "      <th>Savings</th>\n",
              "    </tr>\n",
              "  </thead>\n",
              "  <tbody>\n",
              "    <tr>\n",
              "      <th>0</th>\n",
              "      <td>59.955414</td>\n",
              "      <td>72448.063694</td>\n",
              "      <td>0.771518</td>\n",
              "      <td>6889.972190</td>\n",
              "    </tr>\n",
              "    <tr>\n",
              "      <th>1</th>\n",
              "      <td>87.775510</td>\n",
              "      <td>27866.102041</td>\n",
              "      <td>0.328800</td>\n",
              "      <td>16659.261445</td>\n",
              "    </tr>\n",
              "    <tr>\n",
              "      <th>2</th>\n",
              "      <td>32.777778</td>\n",
              "      <td>105265.809524</td>\n",
              "      <td>0.309926</td>\n",
              "      <td>14962.778066</td>\n",
              "    </tr>\n",
              "    <tr>\n",
              "      <th>3</th>\n",
              "      <td>24.180000</td>\n",
              "      <td>128029.120000</td>\n",
              "      <td>0.896892</td>\n",
              "      <td>4087.520309</td>\n",
              "    </tr>\n",
              "    <tr>\n",
              "      <th>4</th>\n",
              "      <td>86.000000</td>\n",
              "      <td>119944.040000</td>\n",
              "      <td>0.068378</td>\n",
              "      <td>14808.683793</td>\n",
              "    </tr>\n",
              "  </tbody>\n",
              "</table>\n",
              "</div>"
            ],
            "text/plain": [
              "         Age         Income  SpendingScore       Savings\n",
              "0  59.955414   72448.063694       0.771518   6889.972190\n",
              "1  87.775510   27866.102041       0.328800  16659.261445\n",
              "2  32.777778  105265.809524       0.309926  14962.778066\n",
              "3  24.180000  128029.120000       0.896892   4087.520309\n",
              "4  86.000000  119944.040000       0.068378  14808.683793"
            ]
          },
          "metadata": {},
          "execution_count": 30
        }
      ]
    },
    {
      "cell_type": "code",
      "metadata": {
        "colab": {
          "base_uri": "https://localhost:8080/"
        },
        "id": "oPWNO1JlVEgX",
        "outputId": "ff7b8a1c-f01b-4997-d2db-8b72de5a283d"
      },
      "source": [
        "#Performing internal validation by looking at the clusters inertia\n",
        "k_mean2.inertia_"
      ],
      "execution_count": null,
      "outputs": [
        {
          "output_type": "execute_result",
          "data": {
            "text/plain": [
              "66.5111137485908"
            ]
          },
          "metadata": {},
          "execution_count": 31
        }
      ]
    },
    {
      "cell_type": "code",
      "metadata": {
        "colab": {
          "base_uri": "https://localhost:8080/"
        },
        "id": "xQ9P7EsgVRrD",
        "outputId": "230659fb-8188-4abf-900f-d0e3d3471bf8"
      },
      "source": [
        "#Getting the Silhouette Score\n",
        "silhouette_score(df1,k_mean2.labels_)"
      ],
      "execution_count": null,
      "outputs": [
        {
          "output_type": "execute_result",
          "data": {
            "text/plain": [
              "0.8048976287755765"
            ]
          },
          "metadata": {},
          "execution_count": 32
        }
      ]
    },
    {
      "cell_type": "markdown",
      "source": [
        "ROC_AUC score improved to 0.8048 from 0.75 when using the optimal number of K=5"
      ],
      "metadata": {
        "id": "22mBItpfDzhq"
      }
    },
    {
      "cell_type": "markdown",
      "metadata": {
        "id": "ihVtYBWg1NM6"
      },
      "source": [
        "## 1.2: Clustering Algorithm #2"
      ]
    },
    {
      "cell_type": "markdown",
      "metadata": {
        "id": "HuagVlTyfZ7A"
      },
      "source": [
        "1. Looking at the data\n",
        "2. Scaling the dataset\n",
        "3. Building DBSCAN Model using random variable values"
      ]
    },
    {
      "cell_type": "code",
      "metadata": {
        "colab": {
          "base_uri": "https://localhost:8080/",
          "height": 423
        },
        "id": "Pu2xugQj1Mci",
        "outputId": "fc623d87-1843-4a32-fcd5-e481e4223c5a"
      },
      "source": [
        "#Looking at the data\n",
        "df"
      ],
      "execution_count": null,
      "outputs": [
        {
          "output_type": "execute_result",
          "data": {
            "text/html": [
              "<div>\n",
              "<style scoped>\n",
              "    .dataframe tbody tr th:only-of-type {\n",
              "        vertical-align: middle;\n",
              "    }\n",
              "\n",
              "    .dataframe tbody tr th {\n",
              "        vertical-align: top;\n",
              "    }\n",
              "\n",
              "    .dataframe thead th {\n",
              "        text-align: right;\n",
              "    }\n",
              "</style>\n",
              "<table border=\"1\" class=\"dataframe\">\n",
              "  <thead>\n",
              "    <tr style=\"text-align: right;\">\n",
              "      <th></th>\n",
              "      <th>Age</th>\n",
              "      <th>Income</th>\n",
              "      <th>SpendingScore</th>\n",
              "      <th>Savings</th>\n",
              "    </tr>\n",
              "  </thead>\n",
              "  <tbody>\n",
              "    <tr>\n",
              "      <th>0</th>\n",
              "      <td>58</td>\n",
              "      <td>77769</td>\n",
              "      <td>0.791329</td>\n",
              "      <td>6559.829923</td>\n",
              "    </tr>\n",
              "    <tr>\n",
              "      <th>1</th>\n",
              "      <td>59</td>\n",
              "      <td>81799</td>\n",
              "      <td>0.791082</td>\n",
              "      <td>5417.661426</td>\n",
              "    </tr>\n",
              "    <tr>\n",
              "      <th>2</th>\n",
              "      <td>62</td>\n",
              "      <td>74751</td>\n",
              "      <td>0.702657</td>\n",
              "      <td>9258.992965</td>\n",
              "    </tr>\n",
              "    <tr>\n",
              "      <th>3</th>\n",
              "      <td>59</td>\n",
              "      <td>74373</td>\n",
              "      <td>0.765680</td>\n",
              "      <td>7346.334504</td>\n",
              "    </tr>\n",
              "    <tr>\n",
              "      <th>4</th>\n",
              "      <td>87</td>\n",
              "      <td>17760</td>\n",
              "      <td>0.348778</td>\n",
              "      <td>16869.507130</td>\n",
              "    </tr>\n",
              "    <tr>\n",
              "      <th>...</th>\n",
              "      <td>...</td>\n",
              "      <td>...</td>\n",
              "      <td>...</td>\n",
              "      <td>...</td>\n",
              "    </tr>\n",
              "    <tr>\n",
              "      <th>500</th>\n",
              "      <td>28</td>\n",
              "      <td>101206</td>\n",
              "      <td>0.387441</td>\n",
              "      <td>14936.775389</td>\n",
              "    </tr>\n",
              "    <tr>\n",
              "      <th>501</th>\n",
              "      <td>93</td>\n",
              "      <td>19934</td>\n",
              "      <td>0.203140</td>\n",
              "      <td>17969.693769</td>\n",
              "    </tr>\n",
              "    <tr>\n",
              "      <th>502</th>\n",
              "      <td>90</td>\n",
              "      <td>35297</td>\n",
              "      <td>0.355149</td>\n",
              "      <td>16091.401954</td>\n",
              "    </tr>\n",
              "    <tr>\n",
              "      <th>503</th>\n",
              "      <td>91</td>\n",
              "      <td>20681</td>\n",
              "      <td>0.354679</td>\n",
              "      <td>18401.088445</td>\n",
              "    </tr>\n",
              "    <tr>\n",
              "      <th>504</th>\n",
              "      <td>89</td>\n",
              "      <td>30267</td>\n",
              "      <td>0.289310</td>\n",
              "      <td>14386.351880</td>\n",
              "    </tr>\n",
              "  </tbody>\n",
              "</table>\n",
              "<p>505 rows × 4 columns</p>\n",
              "</div>"
            ],
            "text/plain": [
              "     Age  Income  SpendingScore       Savings\n",
              "0     58   77769       0.791329   6559.829923\n",
              "1     59   81799       0.791082   5417.661426\n",
              "2     62   74751       0.702657   9258.992965\n",
              "3     59   74373       0.765680   7346.334504\n",
              "4     87   17760       0.348778  16869.507130\n",
              "..   ...     ...            ...           ...\n",
              "500   28  101206       0.387441  14936.775389\n",
              "501   93   19934       0.203140  17969.693769\n",
              "502   90   35297       0.355149  16091.401954\n",
              "503   91   20681       0.354679  18401.088445\n",
              "504   89   30267       0.289310  14386.351880\n",
              "\n",
              "[505 rows x 4 columns]"
            ]
          },
          "metadata": {},
          "execution_count": 9
        }
      ]
    },
    {
      "cell_type": "code",
      "metadata": {
        "colab": {
          "base_uri": "https://localhost:8080/"
        },
        "id": "zTu6rhQAfmQH",
        "outputId": "1febe3d4-bc83-4a1b-d19a-397ec3734b54"
      },
      "source": [
        "#Scaling the dataset\n",
        "#The data is standardized and is stored in a new object called df4\n",
        "from sklearn.preprocessing import StandardScaler\n",
        "scaled = StandardScaler()\n",
        "df4 = scaled.fit_transform(df)\n",
        "df4"
      ],
      "execution_count": null,
      "outputs": [
        {
          "output_type": "execute_result",
          "data": {
            "text/plain": [
              "array([[-4.22871323e-02,  6.27330450e-02,  1.10359261e+00,\n",
              "        -1.07246676e+00],\n",
              "       [-8.21109365e-04,  1.74810526e-01,  1.10264136e+00,\n",
              "        -1.30347264e+00],\n",
              "       [ 1.23576959e-01, -2.11999168e-02,  7.61727378e-01,\n",
              "        -5.26555609e-01],\n",
              "       ...,\n",
              "       [ 1.28462560e+00, -1.11844679e+00, -5.78054216e-01,\n",
              "         8.55312853e-01],\n",
              "       [ 1.32609162e+00, -1.52492929e+00, -5.79865675e-01,\n",
              "         1.32245159e+00],\n",
              "       [ 1.24315958e+00, -1.25833506e+00, -8.31889623e-01,\n",
              "         5.10463045e-01]])"
            ]
          },
          "metadata": {},
          "execution_count": 10
        }
      ]
    },
    {
      "cell_type": "code",
      "metadata": {
        "colab": {
          "base_uri": "https://localhost:8080/"
        },
        "id": "xPYJz9NwgGqr",
        "outputId": "0236ebce-c796-4101-bdda-5578166965fd"
      },
      "source": [
        "from sklearn.cluster import DBSCAN\n",
        "dbscan = DBSCAN(eps = 0.5, min_samples = 5)\n",
        "dbscan.fit(df4)"
      ],
      "execution_count": null,
      "outputs": [
        {
          "output_type": "execute_result",
          "data": {
            "text/plain": [
              "DBSCAN()"
            ]
          },
          "metadata": {},
          "execution_count": 11
        }
      ]
    },
    {
      "cell_type": "code",
      "metadata": {
        "colab": {
          "base_uri": "https://localhost:8080/"
        },
        "id": "XyATA5jJg9g3",
        "outputId": "09fe933e-53a8-4dcb-e541-ee0206864d18"
      },
      "source": [
        "dbscan.labels_"
      ],
      "execution_count": null,
      "outputs": [
        {
          "output_type": "execute_result",
          "data": {
            "text/plain": [
              "array([0, 0, 0, 0, 1, 2, 0, 1, 1, 1, 3, 4, 4, 4, 0, 3, 0, 1, 1, 3, 4, 3,\n",
              "       0, 1, 3, 2, 2, 0, 1, 0, 0, 0, 1, 0, 4, 0, 1, 0, 4, 4, 0, 1, 2, 0,\n",
              "       0, 2, 3, 2, 4, 0, 1, 4, 2, 1, 0, 1, 4, 1, 1, 1, 1, 1, 1, 0, 0, 0,\n",
              "       1, 2, 2, 0, 0, 4, 1, 1, 4, 0, 4, 0, 0, 2, 0, 3, 0, 1, 1, 4, 4, 0,\n",
              "       0, 0, 0, 0, 2, 1, 0, 2, 4, 0, 0, 4, 4, 2, 4, 2, 4, 1, 1, 4, 4, 0,\n",
              "       1, 4, 0, 4, 4, 4, 0, 4, 2, 1, 4, 1, 1, 1, 4, 3, 0, 1, 0, 0, 4, 0,\n",
              "       4, 0, 2, 1, 3, 2, 0, 4, 1, 0, 0, 2, 0, 2, 0, 3, 0, 1, 0, 4, 1, 0,\n",
              "       1, 3, 4, 0, 1, 0, 4, 1, 0, 4, 1, 4, 1, 0, 4, 0, 1, 0, 4, 0, 1, 0,\n",
              "       0, 1, 1, 1, 0, 0, 4, 2, 2, 1, 4, 0, 0, 0, 4, 1, 0, 0, 0, 1, 2, 4,\n",
              "       1, 1, 1, 4, 0, 4, 0, 4, 0, 1, 2, 0, 1, 1, 1, 1, 0, 1, 4, 2, 4, 1,\n",
              "       0, 0, 4, 1, 4, 2, 4, 0, 0, 1, 0, 0, 1, 0, 0, 0, 4, 0, 4, 4, 2, 0,\n",
              "       0, 0, 3, 0, 4, 1, 2, 2, 2, 1, 0, 4, 1, 1, 4, 4, 0, 0, 3, 0, 0, 1,\n",
              "       0, 1, 4, 2, 0, 4, 1, 0, 1, 1, 4, 0, 1, 1, 0, 0, 1, 4, 4, 3, 4, 1,\n",
              "       1, 4, 3, 1, 1, 2, 0, 4, 4, 0, 4, 1, 1, 4, 0, 4, 1, 0, 4, 2, 0, 1,\n",
              "       4, 4, 1, 3, 3, 0, 1, 4, 0, 0, 1, 4, 1, 4, 1, 4, 1, 1, 4, 1, 4, 0,\n",
              "       4, 0, 0, 4, 4, 1, 1, 2, 2, 4, 1, 2, 1, 3, 0, 0, 0, 1, 1, 4, 4, 3,\n",
              "       4, 3, 0, 4, 2, 1, 0, 1, 2, 0, 1, 1, 0, 1, 4, 0, 3, 4, 4, 0, 1, 1,\n",
              "       1, 1, 1, 4, 4, 1, 0, 4, 0, 3, 1, 1, 0, 1, 1, 0, 1, 1, 4, 1, 0, 4,\n",
              "       2, 4, 0, 1, 4, 0, 0, 0, 1, 4, 2, 4, 0, 4, 0, 0, 2, 4, 3, 2, 4, 4,\n",
              "       1, 0, 1, 4, 1, 4, 0, 0, 1, 3, 4, 1, 4, 0, 0, 4, 0, 1, 0, 4, 0, 1,\n",
              "       0, 1, 2, 4, 4, 2, 4, 4, 1, 1, 0, 2, 0, 4, 4, 3, 2, 4, 2, 1, 4, 4,\n",
              "       0, 4, 1, 1, 2, 0, 4, 0, 0, 4, 0, 0, 0, 1, 4, 4, 0, 0, 0, 1, 4, 1,\n",
              "       1, 1, 1, 2, 1, 1, 1, 0, 0, 1, 1, 0, 2, 1, 4, 2, 4, 1, 1, 1, 1])"
            ]
          },
          "metadata": {},
          "execution_count": 12
        }
      ]
    },
    {
      "cell_type": "code",
      "metadata": {
        "colab": {
          "base_uri": "https://localhost:8080/"
        },
        "id": "wAm13hA40S-v",
        "outputId": "d6392203-4568-4cf4-f0c7-d79528837419"
      },
      "source": [
        "#getting the silhoutte score\n",
        "silhouette_score(df4,dbscan.labels_)"
      ],
      "execution_count": null,
      "outputs": [
        {
          "output_type": "execute_result",
          "data": {
            "text/plain": [
              "0.8048976287755765"
            ]
          },
          "metadata": {},
          "execution_count": 15
        }
      ]
    },
    {
      "cell_type": "code",
      "metadata": {
        "id": "Dg2Fg1_P49fK"
      },
      "source": [
        "#DBSCAN Hyperparamter Tuning for Eps and Min_Sample values\n",
        "#We will use Elbow method to plot silhoutte score\n",
        "\n",
        "silh = {}\n",
        "\n",
        "epss = np.arange(0.1,0.9,0.1)\n",
        "minss = [4,5,6,7,8,9]\n",
        "\n",
        "ss = np.zeros((len(epss),len(minss)))\n",
        "\n",
        "for i,eps in enumerate(epss):\n",
        "  for j, mins in enumerate(minss):\n",
        "    db =DBSCAN(eps = eps, min_samples = mins).fit(df4)\n",
        "    if len(set(db.labels_))==1:\n",
        "      ss[i,j] = -1\n",
        "    else:\n",
        "      ss[i,j] = silhouette_score(df4,db.labels_,metric='euclidean')"
      ],
      "execution_count": null,
      "outputs": []
    },
    {
      "cell_type": "code",
      "metadata": {
        "colab": {
          "base_uri": "https://localhost:8080/",
          "height": 295
        },
        "id": "XCKT8fNOAALG",
        "outputId": "bb16c346-7fa8-4120-f55d-3b7adfbb251c"
      },
      "source": [
        "plt.figure()\n",
        "for i in range(len(minss)):\n",
        "  plt.plot(epss,ss[:,i], label = \"MinPts = {}\".format(minss[i]));\n",
        "\n",
        "plt.title('DBSCAN,Elbow Method')\n",
        "plt.xlabel(\"Eps\");\n",
        "plt.ylabel(\"Silhouette\");\n",
        "plt.legend();\n"
      ],
      "execution_count": null,
      "outputs": [
        {
          "output_type": "display_data",
          "data": {
            "image/png": "[encoded data removed]",
            "text/plain": [
              "<Figure size 432x288 with 1 Axes>"
            ]
          },
          "metadata": {
            "needs_background": "light"
          }
        }
      ]
    },
    {
      "cell_type": "markdown",
      "metadata": {
        "id": "x6Zo0K5GBSJF"
      },
      "source": [
        "From the above hypertuning, I observe that the optimum value for eps and min are 0.5 and 8 respectively. I will create another DBSCAN model and will check its silhouette score."
      ]
    },
    {
      "cell_type": "code",
      "metadata": {
        "colab": {
          "base_uri": "https://localhost:8080/"
        },
        "id": "a-0P5Cg-Blyy",
        "outputId": "2b47a7f7-9ef0-4510-edbb-4da7c3d1f056"
      },
      "source": [
        "#Creating another DBSCAN model\n",
        "dbscan2 =DBSCAN(eps = 0.5,min_samples=8)\n",
        "dbscan2.fit(df4)"
      ],
      "execution_count": null,
      "outputs": [
        {
          "output_type": "execute_result",
          "data": {
            "text/plain": [
              "DBSCAN(min_samples=8)"
            ]
          },
          "metadata": {},
          "execution_count": 23
        }
      ]
    },
    {
      "cell_type": "code",
      "metadata": {
        "colab": {
          "base_uri": "https://localhost:8080/"
        },
        "id": "IcjrtNxmB0ni",
        "outputId": "afd5ea12-c06f-408a-f988-a38bba278832"
      },
      "source": [
        "dbscan2.labels_"
      ],
      "execution_count": null,
      "outputs": [
        {
          "data": {
            "text/plain": [
              "array([0, 0, 0, 0, 1, 2, 0, 1, 1, 1, 3, 4, 4, 4, 0, 3, 0, 1, 1, 3, 4, 3,\n",
              "       0, 1, 3, 2, 2, 0, 1, 0, 0, 0, 1, 0, 4, 0, 1, 0, 4, 4, 0, 1, 2, 0,\n",
              "       0, 2, 3, 2, 4, 0, 1, 4, 2, 1, 0, 1, 4, 1, 1, 1, 1, 1, 1, 0, 0, 0,\n",
              "       1, 2, 2, 0, 0, 4, 1, 1, 4, 0, 4, 0, 0, 2, 0, 3, 0, 1, 1, 4, 4, 0,\n",
              "       0, 0, 0, 0, 2, 1, 0, 2, 4, 0, 0, 4, 4, 2, 4, 2, 4, 1, 1, 4, 4, 0,\n",
              "       1, 4, 0, 4, 4, 4, 0, 4, 2, 1, 4, 1, 1, 1, 4, 3, 0, 1, 0, 0, 4, 0,\n",
              "       4, 0, 2, 1, 3, 2, 0, 4, 1, 0, 0, 2, 0, 2, 0, 3, 0, 1, 0, 4, 1, 0,\n",
              "       1, 3, 4, 0, 1, 0, 4, 1, 0, 4, 1, 4, 1, 0, 4, 0, 1, 0, 4, 0, 1, 0,\n",
              "       0, 1, 1, 1, 0, 0, 4, 2, 2, 1, 4, 0, 0, 0, 4, 1, 0, 0, 0, 1, 2, 4,\n",
              "       1, 1, 1, 4, 0, 4, 0, 4, 0, 1, 2, 0, 1, 1, 1, 1, 0, 1, 4, 2, 4, 1,\n",
              "       0, 0, 4, 1, 4, 2, 4, 0, 0, 1, 0, 0, 1, 0, 0, 0, 4, 0, 4, 4, 2, 0,\n",
              "       0, 0, 3, 0, 4, 1, 2, 2, 2, 1, 0, 4, 1, 1, 4, 4, 0, 0, 3, 0, 0, 1,\n",
              "       0, 1, 4, 2, 0, 4, 1, 0, 1, 1, 4, 0, 1, 1, 0, 0, 1, 4, 4, 3, 4, 1,\n",
              "       1, 4, 3, 1, 1, 2, 0, 4, 4, 0, 4, 1, 1, 4, 0, 4, 1, 0, 4, 2, 0, 1,\n",
              "       4, 4, 1, 3, 3, 0, 1, 4, 0, 0, 1, 4, 1, 4, 1, 4, 1, 1, 4, 1, 4, 0,\n",
              "       4, 0, 0, 4, 4, 1, 1, 2, 2, 4, 1, 2, 1, 3, 0, 0, 0, 1, 1, 4, 4, 3,\n",
              "       4, 3, 0, 4, 2, 1, 0, 1, 2, 0, 1, 1, 0, 1, 4, 0, 3, 4, 4, 0, 1, 1,\n",
              "       1, 1, 1, 4, 4, 1, 0, 4, 0, 3, 1, 1, 0, 1, 1, 0, 1, 1, 4, 1, 0, 4,\n",
              "       2, 4, 0, 1, 4, 0, 0, 0, 1, 4, 2, 4, 0, 4, 0, 0, 2, 4, 3, 2, 4, 4,\n",
              "       1, 0, 1, 4, 1, 4, 0, 0, 1, 3, 4, 1, 4, 0, 0, 4, 0, 1, 0, 4, 0, 1,\n",
              "       0, 1, 2, 4, 4, 2, 4, 4, 1, 1, 0, 2, 0, 4, 4, 3, 2, 4, 2, 1, 4, 4,\n",
              "       0, 4, 1, 1, 2, 0, 4, 0, 0, 4, 0, 0, 0, 1, 4, 4, 0, 0, 0, 1, 4, 1,\n",
              "       1, 1, 1, 2, 1, 1, 1, 0, 0, 1, 1, 0, 2, 1, 4, 2, 4, 1, 1, 1, 1])"
            ]
          },
          "execution_count": 64,
          "metadata": {},
          "output_type": "execute_result"
        }
      ]
    },
    {
      "cell_type": "code",
      "metadata": {
        "colab": {
          "base_uri": "https://localhost:8080/"
        },
        "id": "KEdAIoykB8CL",
        "outputId": "2a2f618c-689a-4462-9dcd-6928bffedbae"
      },
      "source": [
        "silhouette_score(df4,dbscan2.labels_)"
      ],
      "execution_count": null,
      "outputs": [
        {
          "output_type": "execute_result",
          "data": {
            "text/plain": [
              "0.8048976287755765"
            ]
          },
          "metadata": {},
          "execution_count": 24
        }
      ]
    },
    {
      "cell_type": "markdown",
      "metadata": {
        "id": "6ySJIgNr1Sfy"
      },
      "source": [
        "## 1.3 Model Comparison"
      ]
    },
    {
      "cell_type": "markdown",
      "metadata": {
        "id": "gwQembOT1L6U"
      },
      "source": [
        "I made KMeans and DBSCAN technique for this clustering problem.Though the silhoutte score (0.8049) for both DBSCAN model and KMeans model is (0.804),I consider KMeans to be a better solution for this type of problem. The reason are as follows:\n",
        "\n",
        "1.   The number of clusters to be made in KMeans can be hyper tuned easily. I used Elbow method to determine the optimum K value which came out to be 5. And it is also easily understandable by looking at the data that there will be 5 clusters as there are people belonging to different age groups. In DBSCAN, it is hard to determine the parameters Eps and Min_sample which can be intuitively associated with the data.\n",
        "2.   Another reason for preferring KMeans over DBSCAN is the interpretability of the clusters. KMeans gives a mean point for each cluster that can be used for labelling, while DBSCAN is more for density clustering and determinign outliers, our problem dataset does not have any outlier or density problem.\n",
        "\n"
      ]
    },
    {
      "cell_type": "markdown",
      "source": [
        ""
      ],
      "metadata": {
        "id": "1ejrfjMmG0tt"
      }
    },
    {
      "cell_type": "markdown",
      "metadata": {
        "id": "MP2EAnCJ1Xta"
      },
      "source": [
        "## 1.4 Personas"
      ]
    },
    {
      "cell_type": "markdown",
      "metadata": {
        "id": "dVewu2TZ1XhK"
      },
      "source": [
        "![image.png](data:image/png;base64,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)"
      ]
    },
    {
      "cell_type": "markdown",
      "metadata": {
        "id": "fp_oKS-b4wYx"
      },
      "source": [
        "Based on KMeans clustering interpretation, we have four personas as the customer to the jewellery store:\n",
        "\n",
        "1.   **Cluster 0: Spendthrift Seniors:** These are customers whose mean age is around 60. Their income is not too high and not too less, but they spend good amount of money at the Jewellery shop. These customers in general must be purchasing jewellery for their children's marriages or functions. They are not too much into savings.\n",
        "2. **Cluster 1: Pensioners and Savers:** These are customers in their 80s or 90s. These people are out of jobs and mostly living on pensions or dependent on their family. They are not very mobile as a result they donot get much opportunity to visit the store and spend. Their families are settled and they donot have much need for jewellery for themselves now. The entire income goes into savings as a result they have a strong bank account.\n",
        "3.   **Cluster 2: Middle-age responsible population:** These are in their 30s. These customers have all the liabilities ahead of them, they are earning well but their focus is more towards savings. Their spend score is very low as they might be spending on jewellery only when it is required and necessary otherwise these customer's main focus is to save for the big liabilities ahead of them.\n",
        "4.   **Cluster 3: Fresh Workers:** These are young customers. They must have recently started earning and they earn a good amount of money. They don't have any liability and they believe in enjoying the youth as a result their savings is the lowest in the entire group. The speding score is also high for this bracket, as these customers must be purchasing jewellery for luxury.\n",
        "5.   **Cluster 3:Rich No Jewellery Oldies:** These are also old customers around 90s. They have a very good income but they don't believe in spending at all at the jewellery store. These customers are no stingy, as their savings is only 12% of their income, this means they spend good amount of their income but not too much on the Jewellery at Uncle Steve's store.\n",
        "\n",
        "\n",
        "\n",
        "\n"
      ]
    },
    {
      "cell_type": "markdown",
      "metadata": {
        "id": "DYwuYIgczYSv"
      },
      "source": [
        "# Question 2: Uncle Steve's Fine Foods"
      ]
    },
    {
      "cell_type": "markdown",
      "metadata": {
        "id": "4oCr-mTfNG-H"
      },
      "source": [
        "## Instructions\n",
        "\n",
        "Uncle Steve runs a small, local grocery store in Ontario. The store sells all the normal food staples (e.g., bread, milk, cheese, eggs, more cheese, fruits, vegatables, meat, fish, waffles, ice cream, pasta, cereals, drinks), personal care products (e.g., toothpaste, shampoo, hair goo), medicine, and cakes. There's even a little section with flowers and greeting cards! Normal people shop here, and buy normal things in the normal way.\n",
        "\n",
        "Business is OK but Uncle Steve wants more. He's thus on the hunt for customer insights. Given your success at the jewelry store, he has asked you to help him out. \n",
        "\n",
        "He has given you a few years' worth of customer transactions, i.e., sets of items that customers have purchased. You have applied an association rules learning algorithm (like Apriori) to the data, and the algorithm has generated a large set of association rules of the form `{X} -> {Y}`, where `{X}` and `{Y}` are item-sets.\n",
        "\n",
        "Now comes a thought experiment. For each of the following scenarios, state what one of the discovered association rules might be that would meet the stated condition. (Just make up the rule, using your human experience and intuition.) Also, describe whether and why each rule would be considered interesting or uninteresting for Uncle Steve (i.e., is this insight new to him? Would he be able to use it somehow?).\n",
        "\n",
        "Keep each answer to 600 characters or less (including spaces).\n",
        "\n",
        "To get those brain juices going, an example condition and answer is provided below:\n",
        "\n",
        "> Condition: A rule that has high support.\n",
        "\n",
        "> Answer: The rule `{milk} -> {bread}` would have high support, since milk and bread are household staples and a high percentage of transactions would include both `{milk}` and `{bread}`. Uncle Steve would likely not find this rule interesting, because these items are so common, he would have surely already noticed that so many transactions contain them.\n",
        "\n",
        "**Marking**\n",
        "\n",
        "Your responses will be marked as follows:\n",
        "\n",
        "- *Correctness*. Rule meets the specificed condition, and seems plausible in an Ontario grocery store.\n",
        "- *Justification of interestness*. Response clearly describes whether and why the rule would be considered interesting to Uncle Steve.\n",
        "\n",
        "**Tips**\n",
        "\n",
        "- There is no actual data for this question. This question is just a thought exercise. You need to use your intuition, creatitivty, and understanding of the real world. I assume you are familiar with what happens inside of normal grocery stores. We are not using actual data and you do not need to create/generate/find any data. I repeat: there is no data for this question.\n",
        "- The reason this question is having you do a thought experiment, rather than writing and running code to find actual association rules on an actual dataset, is because writing code to find association rules is actually pretty easy. But using your brain to come up with rules that meet certain criteria, on the other hand, is a true test of whether you understand how the algorithm works, what support and confidence mean, and the applicability of rules. The question uses the grocery store context because most, if not all, students should be familiar from personal experience.\n",
        "\n"
      ]
    },
    {
      "cell_type": "markdown",
      "metadata": {
        "id": "3YQsOb6CzYVq"
      },
      "source": [
        "## 2.1: A rule that might have high support and high confidence. "
      ]
    },
    {
      "cell_type": "markdown",
      "metadata": {
        "id": "DzXu1IvK-MEg"
      },
      "source": [
        "The rule {Cereals} -> {Coffee}\n",
        "\n",
        "Cereals and Coffee has a high support as they exist together in many transactions. They also have high confidence because out of all the transactions that involve Cereals, most of them also includes Coffee.  Cereals and Coffee are common breakfast consumption. When customer come to purchase Cereals they also tend to purchase coffee. Uncle Steve will find it interesting because from this rule, he can rearrange the store shelves in such a way that breakfast products are kept in vicinity to each other. This way when a customer is looking for breakfast snacks and food, they can get everything at one place.\n",
        "\n"
      ]
    },
    {
      "cell_type": "markdown",
      "metadata": {
        "id": "VNIrAgJk-L4l"
      },
      "source": [
        "## 2.2: A rule that might have reasonably high support but low confidence."
      ]
    },
    {
      "cell_type": "markdown",
      "metadata": {
        "id": "svdzYW3S-LvF"
      },
      "source": [
        "Answer: The rule {butter} -> {cheese} would have high support for cheese and low confidence for butter & vheese. Both items consumes fast and should be on consumer's weekly shopping list. This will not be interesting to Uncle Steve because when he looks at the transaction then 90% of the transaction already includes cheese, so associating Cheese with Butter will not make much sense to him. What he would be interested in is the lift so as to understand whether the association between butter and cheese is just a random chance or not."
      ]
    },
    {
      "cell_type": "markdown",
      "metadata": {
        "id": "loe--LMz-Ll8"
      },
      "source": [
        "## 2.3: A rule that might have low support and low confidence."
      ]
    },
    {
      "cell_type": "markdown",
      "metadata": {
        "id": "HdyOB5fe-Zgy"
      },
      "source": [
        "The rule {Milk} -> {Washing Detergent}\n",
        "\n",
        "Very few of the transactions where Milk exists, also includes Washing Detergent. The rational behind low support and low confidence is that customers purchase milk at regular intervals, while the washing detergent is something they pruchase mostly at the beginning of the month to cater to the entire months need. Uncle Steve would likely not find this rule interesting as it can be understood intuitively. Both the products are from different category and with different intensity of consumption."
      ]
    },
    {
      "cell_type": "code",
      "metadata": {
        "id": "h903h6qFIQBI"
      },
      "source": [
        ""
      ],
      "execution_count": null,
      "outputs": []
    },
    {
      "cell_type": "markdown",
      "metadata": {
        "id": "St2eI3We-ZYs"
      },
      "source": [
        "## 2.4: A rule that might have low support and high confidence."
      ]
    },
    {
      "cell_type": "markdown",
      "metadata": {
        "id": "LcdZc-B1-fE7"
      },
      "source": [
        "The rule {Cakes} -> {Flowers}\n",
        "\n",
        "This rule has low support as the number of instances where Cake and Flower transaction takes place together is less compared to the overall transactions in the dataset. But this rule has a high confidence, as in the total number of transaction where Cake was purchased, customers also purchased flowers. This can be due to the reason that Cakes are generally purchased by people to celebrate an occassion, which is not always, but when they do they also tend to purchase flowers to complement that cake. Uncle Steve will find it interesting as it tells how flowers sale can be increased along with the sales of cakes. Good,Tasty cake counter near beautiful colorful flower section can really improve the sales in both the categories."
      ]
    },
    {
      "cell_type": "markdown",
      "metadata": {
        "id": "B_IHoz7f2yIV"
      },
      "source": [
        "# Question 3: Uncle Steve's Credit Union"
      ]
    },
    {
      "cell_type": "markdown",
      "metadata": {
        "id": "WhERdkp_zYBY"
      },
      "source": [
        "## Instructions\n",
        "\n",
        "Uncle Steve has recently opened a new credit union in Kingston, named *Uncle Steve's Credit Union*. He plans to disrupt the local market by instaneously providing credit to customers.\n",
        "\n",
        "The first step in Uncle Steve's master plan is to create a model to predict whether an application has *good risk* or *bad risk*. He has outsourced the creation of this model to you.\n",
        "\n",
        "You are to create a classification model to predict whether a loan applicant has good risk or bad risk. You will use data  that Uncle Steve bought from another credit union (somewhere in Europe, he thinks?) that has around 6000 instances and a number of demographics features (e.g., `Sex`, `DateOfBirth`, `Married`), loan details (e.g., `Amount`, `Purpose`), credit history (e.g., number of loans), as well as an indicator (called `BadCredit` in the dataset) as to whether that person was a bad risk.\n",
        "\n",
        "\n",
        "**Your tasks**\n",
        "\n",
        "To examine the effects of the various ML stages, you are to create the model several times, each time adding more sophistication, and measuring how much the model improved (or not). In particular, you will:\n",
        "\n",
        "0. Split the data in training and testing. Don't touch the testing data again, for any reason, until step 5. We are pretending that the testing data is \"future, unseen data that our model won't see until production.\" I'm serious, don't touch it. I'm watching you!\n",
        "1. Build a baseline model - no feature engineering, no feature selection, no hyperparameter tuning (just use the default settings), nothing fancy. (You may need to do some basic feature transformations, e.g., encoding of categorical features, or dropping of features you do not think will help or do not want to deal with yet.) Measure the performance using K-fold cross validation (recommended: [`sklearn.model_selection.cross_val_score`](https://scikit-learn.org/stable/modules/generated/sklearn.model_selection.cross_val_score.html#sklearn.model_selection.cross_val_score)) on the training data. Use at least 5 folds, but more are better. Choose a [`scoring` parameter](https://scikit-learn.org/stable/modules/model_evaluation.html#scoring-parameter) (i.e., classification metric) that you feel is appropriate for this task. Don't use accuracy. Print the mean score of your model.\n",
        "2. Add a bit of feature engineering. The [`sklearn.preprocessing`](https://scikit-learn.org/stable/modules/classes.html#module-sklearn.preprocessing) module contains many useful transformations. Engineer at least three new features. They don't need to be especially ground-breaking or complicated. Dimensionality reduction techniques like [`sklearn.decomposition.PCA`](https://scikit-learn.org/stable/modules/generated/sklearn.decomposition.PCA.html) are fair game but not required. (If you do use dimensionality reduction techniques, it would only count as \"one\" new feature for the purposes of this assignment, even though I realize that PCA creates many new \"features\" (i.e., principal componentns).) Re-train your baseline model. Measure performance. Compare to step 1.\n",
        "3. Add feature selection. The [`sklearn.feature_selection`](https://scikit-learn.org/stable/modules/classes.html#module-sklearn.feature_selection) has some algorithms for you to choose from. After selecting features, re-train your model, measure performance, and compare to step 2.\n",
        "4. Add hyperparameter tuning. Make reasonable choices and try to find the best (or at least, better) hyperparameters for your estimator and/or transformers. It's probably a good idea to stop using `cross_val_score` at this point and start using [`sklearn.model_selection.GridSearchCV`](https://scikit-learn.org/stable/modules/generated/sklearn.model_selection.GridSearchCV.html#sklearn.model_selection.GridSearchCV) as it is specifically built for this purpose and is more convienient to use. Measure performance and compare to step 3.\n",
        "5. Finally, estimate how well your model will work in production. Use the testing data (our \"future, unseen data\") from step 0. Transform the data as appropriate (easy if you've built a pipeline, a little more difficult if not), use the model from step 4 to get predictions, and measure the performance. How well did we do? \n",
        "\n",
        "\n",
        "**Marking**\n",
        "\n",
        "Each part will be marked for:\n",
        "- *Correctness*. Code clearly and fully performs the task specified.\n",
        "- *Reproducibility*. Code is fully reproducible. I.e., you (and I) should be able to run this Notebook again and again, from top to bottom, and get the same results each and every time.\n",
        "- *Style*. Code is organized. All parts commented with clear reasoning and rationale. No old code laying around. Code easy to follow. \n",
        "\n",
        "\n",
        "**Tips**\n",
        "- The origins of the dataset are a bit of a mystery. Assume the data set is recent (circa 2021) and up-to-date. Assume that column names are correct and accurate.\n",
        "- You don't need to experiment with more than one algorithm/estimator. Just choose one (e.g., [`sklearn.tree.DecisionTreeClassifier`](https://scikit-learn.org/stable/modules/generated/sklearn.tree.DecisionTreeClassifier.html#sklearn.tree.DecisionTreeClassifier), [`sklearn.ensemble.RandomForestClassifier`](https://scikit-learn.org/stable/modules/generated/sklearn.ensemble.RandomForestClassifier.html#sklearn.ensemble.RandomForestClassifier), [`sklearn.linear_model.LogisticRegression`](https://scikit-learn.org/stable/modules/generated/sklearn.linear_model.LogisticRegression.html#sklearn.linear_model.LogisticRegression), [`sklearn.svm.LinearSVC`](https://scikit-learn.org/stable/modules/generated/sklearn.svm.LinearSVC.html#sklearn.svm.LinearSVC), whatever) and stick with it for this question. \n",
        "- There is no minimum accuracy/precision/recall for this question. I.e., your mark will not be based on how good your model is. Rather, you mark will be based on good your process is.\n",
        "- Watch out for data leakage and overfitting. In particular, be sure to `fit()` any estimators and transformers (collectively, *objects*) only to the training data, and then use the objects' `transform()` methods on both the training and testing data. [Data School](https://www.youtube.com/c/dataschool/featured) has a [helpful video](https://www.youtube.com/watch?v=g2XsZdwbCCs) about this. [Pipelines](https://www.youtube.com/watch?v=1Y6O9nCo0-I) are very helpful here and make your code shorter and more robust (at the expense of making it harder to understand), and I recommend using them, but they are not required for this assignment.\n",
        "- Create as many code cells as you need. In general, each cell should do one \"thing.\"\n",
        "-\tDon't print large volumes of output. E.g., don't do: `df.head(100)`\n",
        "\n",
        "\n"
      ]
    },
    {
      "cell_type": "markdown",
      "metadata": {
        "id": "jqm_REd4oouz"
      },
      "source": [
        "## 3.0: Load data and split"
      ]
    },
    {
      "cell_type": "code",
      "metadata": {
        "colab": {
          "base_uri": "https://localhost:8080/"
        },
        "id": "X6b_BM0Nz9sF",
        "outputId": "2c98bc33-b8ed-498f-c06c-bf4d52a61cd5"
      },
      "source": [
        "# DO NOT MODIFY THIS CELL\n",
        "\n",
        "# First, we'll read the provided labeled training data\n",
        "dtf = pd.read_csv(\"https://drive.google.com/uc?export=download&id=1wOhyCnvGeY4jplxI8lZ-bbYN3zLtickf\")\n",
        "dtf.info()\n",
        "\n",
        "from sklearn.model_selection import train_test_split\n",
        "\n",
        "X = dtf.drop('BadCredit', axis=1) #.select_dtypes(['number'])\n",
        "y = dtf['BadCredit']\n",
        "\n",
        "X_train, X_test, y_train, y_test = train_test_split(X, y, test_size=0.2, random_state=42)"
      ],
      "execution_count": null,
      "outputs": [
        {
          "output_type": "stream",
          "name": "stdout",
          "text": [
            "<class 'pandas.core.frame.DataFrame'>\n",
            "RangeIndex: 6000 entries, 0 to 5999\n",
            "Data columns (total 17 columns):\n",
            " #   Column             Non-Null Count  Dtype \n",
            "---  ------             --------------  ----- \n",
            " 0   UserID             6000 non-null   object\n",
            " 1   Sex                6000 non-null   object\n",
            " 2   PreviousDefault    6000 non-null   int64 \n",
            " 3   FirstName          6000 non-null   object\n",
            " 4   LastName           6000 non-null   object\n",
            " 5   NumberPets         6000 non-null   int64 \n",
            " 6   PreviousAccounts   6000 non-null   int64 \n",
            " 7   ResidenceDuration  6000 non-null   int64 \n",
            " 8   Street             6000 non-null   object\n",
            " 9   LicensePlate       6000 non-null   object\n",
            " 10  BadCredit          6000 non-null   int64 \n",
            " 11  Amount             6000 non-null   int64 \n",
            " 12  Married            6000 non-null   int64 \n",
            " 13  Duration           6000 non-null   int64 \n",
            " 14  City               6000 non-null   object\n",
            " 15  Purpose            6000 non-null   object\n",
            " 16  DateOfBirth        6000 non-null   object\n",
            "dtypes: int64(8), object(9)\n",
            "memory usage: 797.0+ KB\n"
          ]
        }
      ]
    },
    {
      "cell_type": "code",
      "metadata": {
        "colab": {
          "base_uri": "https://localhost:8080/",
          "height": 164
        },
        "id": "GECuplD1yhSv",
        "outputId": "37df60fb-c038-4c79-a20d-609816718af8"
      },
      "source": [
        "#Printing the top 2 rows of the dataset\n",
        "dtf.head(2)"
      ],
      "execution_count": null,
      "outputs": [
        {
          "output_type": "execute_result",
          "data": {
            "text/html": [
              "<div>\n",
              "<style scoped>\n",
              "    .dataframe tbody tr th:only-of-type {\n",
              "        vertical-align: middle;\n",
              "    }\n",
              "\n",
              "    .dataframe tbody tr th {\n",
              "        vertical-align: top;\n",
              "    }\n",
              "\n",
              "    .dataframe thead th {\n",
              "        text-align: right;\n",
              "    }\n",
              "</style>\n",
              "<table border=\"1\" class=\"dataframe\">\n",
              "  <thead>\n",
              "    <tr style=\"text-align: right;\">\n",
              "      <th></th>\n",
              "      <th>UserID</th>\n",
              "      <th>Sex</th>\n",
              "      <th>PreviousDefault</th>\n",
              "      <th>FirstName</th>\n",
              "      <th>LastName</th>\n",
              "      <th>NumberPets</th>\n",
              "      <th>PreviousAccounts</th>\n",
              "      <th>ResidenceDuration</th>\n",
              "      <th>Street</th>\n",
              "      <th>LicensePlate</th>\n",
              "      <th>BadCredit</th>\n",
              "      <th>Amount</th>\n",
              "      <th>Married</th>\n",
              "      <th>Duration</th>\n",
              "      <th>City</th>\n",
              "      <th>Purpose</th>\n",
              "      <th>DateOfBirth</th>\n",
              "    </tr>\n",
              "  </thead>\n",
              "  <tbody>\n",
              "    <tr>\n",
              "      <th>0</th>\n",
              "      <td>218-84-8180</td>\n",
              "      <td>F</td>\n",
              "      <td>0</td>\n",
              "      <td>Debra</td>\n",
              "      <td>Schaefer</td>\n",
              "      <td>2</td>\n",
              "      <td>3</td>\n",
              "      <td>1</td>\n",
              "      <td>503 Linda Locks</td>\n",
              "      <td>395C</td>\n",
              "      <td>0</td>\n",
              "      <td>3907</td>\n",
              "      <td>0</td>\n",
              "      <td>24</td>\n",
              "      <td>Port Keith</td>\n",
              "      <td>Vacation</td>\n",
              "      <td>1964-04-07</td>\n",
              "    </tr>\n",
              "    <tr>\n",
              "      <th>1</th>\n",
              "      <td>395-49-9764</td>\n",
              "      <td>M</td>\n",
              "      <td>0</td>\n",
              "      <td>Derek</td>\n",
              "      <td>Wright</td>\n",
              "      <td>0</td>\n",
              "      <td>1</td>\n",
              "      <td>1</td>\n",
              "      <td>969 Cox Dam Suite 101</td>\n",
              "      <td>UFZ 691</td>\n",
              "      <td>0</td>\n",
              "      <td>3235</td>\n",
              "      <td>0</td>\n",
              "      <td>12</td>\n",
              "      <td>Lake Debra</td>\n",
              "      <td>NewCar</td>\n",
              "      <td>1978-06-02</td>\n",
              "    </tr>\n",
              "  </tbody>\n",
              "</table>\n",
              "</div>"
            ],
            "text/plain": [
              "        UserID Sex  PreviousDefault  ...        City   Purpose  DateOfBirth\n",
              "0  218-84-8180   F                0  ...  Port Keith  Vacation   1964-04-07\n",
              "1  395-49-9764   M                0  ...  Lake Debra    NewCar   1978-06-02\n",
              "\n",
              "[2 rows x 17 columns]"
            ]
          },
          "metadata": {},
          "execution_count": 35
        }
      ]
    },
    {
      "cell_type": "markdown",
      "metadata": {
        "id": "sdiKKblCo53S"
      },
      "source": [
        "## 3.1: Baseline model"
      ]
    },
    {
      "cell_type": "code",
      "metadata": {
        "colab": {
          "base_uri": "https://localhost:8080/"
        },
        "id": "g2vIXnIy6Hdz",
        "outputId": "1635e2f7-795c-47b4-b06b-555722c498cb"
      },
      "source": [
        "#Checking the unique values in the field city\n",
        "X_train['City'].unique()"
      ],
      "execution_count": null,
      "outputs": [
        {
          "output_type": "execute_result",
          "data": {
            "text/plain": [
              "array(['New Roberttown', 'Ericmouth', 'East Jill', 'Lake Debra',\n",
              "       'North Judithbury', 'Lisatown', 'West Michael', 'East Jessetown',\n",
              "       'Port Jesseville', 'Robinsonshire', 'Lake Chad', 'Ramirezstad',\n",
              "       'Herrerafurt', 'North Noahstad', 'Lake Roberto', 'New Kellystad',\n",
              "       'Cassandraton', 'New Jessica', 'Jacquelineland', 'Port Keith'],\n",
              "      dtype=object)"
            ]
          },
          "metadata": {},
          "execution_count": 56
        }
      ]
    },
    {
      "cell_type": "code",
      "metadata": {
        "id": "Fl-7evzv6IWd"
      },
      "source": [
        "#Making a copy of training dataset\n",
        "X_train_copy = X_train"
      ],
      "execution_count": null,
      "outputs": []
    },
    {
      "cell_type": "code",
      "metadata": {
        "id": "K-SO1bWB7rv9"
      },
      "source": [
        "#Dropping 'UserID', 'FirstName','LastName','Street','LicensePlate'\n",
        "X_train.drop(['UserID','FirstName','LastName','Street','LicensePlate','DateOfBirth'],axis=1,inplace=True)"
      ],
      "execution_count": null,
      "outputs": []
    },
    {
      "cell_type": "code",
      "metadata": {
        "colab": {
          "base_uri": "https://localhost:8080/"
        },
        "id": "wqKT6Cr-8iQS",
        "outputId": "1aa4bcc2-d16f-45fb-faad-5ee0149eede4"
      },
      "source": [
        "#Checking the New Training Data with dropped columns\n",
        "X_train.dtypes"
      ],
      "execution_count": null,
      "outputs": [
        {
          "output_type": "execute_result",
          "data": {
            "text/plain": [
              "Sex                  object\n",
              "PreviousDefault       int64\n",
              "NumberPets            int64\n",
              "PreviousAccounts      int64\n",
              "ResidenceDuration     int64\n",
              "Amount                int64\n",
              "Married               int64\n",
              "Duration              int64\n",
              "City                 object\n",
              "Purpose              object\n",
              "dtype: object"
            ]
          },
          "metadata": {},
          "execution_count": 61
        }
      ]
    },
    {
      "cell_type": "code",
      "metadata": {
        "id": "wq4wd8G69Shq"
      },
      "source": [
        "#Encoding Variables: Sex,City and Purpose with Ordinal encoding\n",
        "#Importing the package\n",
        "from sklearn.preprocessing import OrdinalEncoder"
      ],
      "execution_count": null,
      "outputs": []
    },
    {
      "cell_type": "code",
      "metadata": {
        "id": "j3_jrhoS_ZTa"
      },
      "source": [
        "#Encoding the two variables\n",
        "encoder = OrdinalEncoder()"
      ],
      "execution_count": null,
      "outputs": []
    },
    {
      "cell_type": "code",
      "metadata": {
        "id": "buKsAhmUAHiZ"
      },
      "source": [
        "#Fitting the encoding\n",
        "X_train[[\"Sex\",\"City\",\"Purpose\"]] = encoder.fit_transform(X_train[[\"Sex\",\"City\",\"Purpose\"]])\n",
        "X_test[[\"Sex\",\"City\",\"Purpose\"]] = encoder.fit_transform(X_test[[\"Sex\",\"City\",\"Purpose\"]])"
      ],
      "execution_count": null,
      "outputs": []
    },
    {
      "cell_type": "code",
      "metadata": {
        "colab": {
          "base_uri": "https://localhost:8080/"
        },
        "id": "_ZTJForQBMQY",
        "outputId": "3063b8b5-fd8c-4a99-c3eb-1f970ee6176b"
      },
      "source": [
        "#Checking the datatypes of before creating Decision Tree Classifier model\n",
        "X_train.dtypes"
      ],
      "execution_count": null,
      "outputs": [
        {
          "output_type": "execute_result",
          "data": {
            "text/plain": [
              "Sex                  float64\n",
              "PreviousDefault        int64\n",
              "NumberPets             int64\n",
              "PreviousAccounts       int64\n",
              "ResidenceDuration      int64\n",
              "Amount                 int64\n",
              "Married                int64\n",
              "Duration               int64\n",
              "City                 float64\n",
              "Purpose              float64\n",
              "dtype: object"
            ]
          },
          "metadata": {},
          "execution_count": 66
        }
      ]
    },
    {
      "cell_type": "code",
      "metadata": {
        "id": "1xBiH_MHyuXy"
      },
      "source": [
        "#Creating Decision Tree without making any changes to the data at this point of time\n",
        "#Importing the required package\n",
        "from sklearn.tree import DecisionTreeClassifier"
      ],
      "execution_count": null,
      "outputs": []
    },
    {
      "cell_type": "code",
      "metadata": {
        "id": "M37vobE0yunj"
      },
      "source": [
        "#Creating the Decision Tree using Gini Index\n",
        "decisiontree = DecisionTreeClassifier(criterion='entropy',random_state=16)"
      ],
      "execution_count": null,
      "outputs": []
    },
    {
      "cell_type": "code",
      "metadata": {
        "colab": {
          "base_uri": "https://localhost:8080/"
        },
        "id": "oQYdwg-kyuqY",
        "outputId": "8b784519-c3de-40bd-e33f-7fccd0e7ff2f"
      },
      "source": [
        "#Fitting the Decision Tree model to the training Dataset\n",
        "decisiontree.fit(X_train,y_train)"
      ],
      "execution_count": null,
      "outputs": [
        {
          "output_type": "execute_result",
          "data": {
            "text/plain": [
              "DecisionTreeClassifier(criterion='entropy', random_state=16)"
            ]
          },
          "metadata": {},
          "execution_count": 69
        }
      ]
    },
    {
      "cell_type": "code",
      "metadata": {
        "id": "mSumAZUAo9O6"
      },
      "source": [
        "#Evaluating the performance of Decision Tree Model using K Fold Cross Validation\n",
        "from sklearn.model_selection import KFold\n",
        "from sklearn.model_selection import cross_val_score\n",
        "kf = KFold(shuffle =True,n_splits = 10)\n",
        "cv_results = cross_val_score(decisiontree,X_train,y_train,cv = kf,scoring = 'roc_auc').mean()\n"
      ],
      "execution_count": null,
      "outputs": []
    },
    {
      "cell_type": "code",
      "metadata": {
        "colab": {
          "base_uri": "https://localhost:8080/"
        },
        "id": "oZ45vhxUQ-Q2",
        "outputId": "8dd692d3-a7c9-47e3-9f6b-a5b16bf08e0a"
      },
      "source": [
        "cv_results"
      ],
      "execution_count": null,
      "outputs": [
        {
          "output_type": "execute_result",
          "data": {
            "text/plain": [
              "0.621650029122591"
            ]
          },
          "metadata": {},
          "execution_count": 71
        }
      ]
    },
    {
      "cell_type": "markdown",
      "metadata": {
        "id": "ugyTS51Ko5vz"
      },
      "source": [
        "## 3.2: Feature engineering"
      ]
    },
    {
      "cell_type": "code",
      "source": [
        "# PLEASE RUN THIS CELL BEFORE CONTINUING TO THE REST OF THE CODING\n",
        "\n",
        "# First, we'll read the provided labeled training data\n",
        "dtf = pd.read_csv(\"https://drive.google.com/uc?export=download&id=1wOhyCnvGeY4jplxI8lZ-bbYN3zLtickf\")\n",
        "dtf.info()\n",
        "\n",
        "from sklearn.model_selection import train_test_split\n",
        "\n",
        "X = dtf.drop('BadCredit', axis=1) #.select_dtypes(['number'])\n",
        "y = dtf['BadCredit']\n",
        "\n",
        "X_train, X_test, y_train, y_test = train_test_split(X, y, test_size=0.2, random_state=42)"
      ],
      "metadata": {
        "colab": {
          "base_uri": "https://localhost:8080/",
          "height": 0
        },
        "id": "yid-D-2Lfb0v",
        "outputId": "8713de53-1896-41ab-975d-925ef46d0c7c"
      },
      "execution_count": 117,
      "outputs": [
        {
          "output_type": "stream",
          "name": "stdout",
          "text": [
            "<class 'pandas.core.frame.DataFrame'>\n",
            "RangeIndex: 6000 entries, 0 to 5999\n",
            "Data columns (total 17 columns):\n",
            " #   Column             Non-Null Count  Dtype \n",
            "---  ------             --------------  ----- \n",
            " 0   UserID             6000 non-null   object\n",
            " 1   Sex                6000 non-null   object\n",
            " 2   PreviousDefault    6000 non-null   int64 \n",
            " 3   FirstName          6000 non-null   object\n",
            " 4   LastName           6000 non-null   object\n",
            " 5   NumberPets         6000 non-null   int64 \n",
            " 6   PreviousAccounts   6000 non-null   int64 \n",
            " 7   ResidenceDuration  6000 non-null   int64 \n",
            " 8   Street             6000 non-null   object\n",
            " 9   LicensePlate       6000 non-null   object\n",
            " 10  BadCredit          6000 non-null   int64 \n",
            " 11  Amount             6000 non-null   int64 \n",
            " 12  Married            6000 non-null   int64 \n",
            " 13  Duration           6000 non-null   int64 \n",
            " 14  City               6000 non-null   object\n",
            " 15  Purpose            6000 non-null   object\n",
            " 16  DateOfBirth        6000 non-null   object\n",
            "dtypes: int64(8), object(9)\n",
            "memory usage: 797.0+ KB\n"
          ]
        }
      ]
    },
    {
      "cell_type": "markdown",
      "source": [
        "**1. Data Balancing**"
      ],
      "metadata": {
        "id": "P9uRiULLjFnx"
      }
    },
    {
      "cell_type": "code",
      "source": [
        "#Checking the balancing of the dataset\n",
        "y_train.value_counts()"
      ],
      "metadata": {
        "colab": {
          "base_uri": "https://localhost:8080/",
          "height": 0
        },
        "id": "EqYo6-6HhOiz",
        "outputId": "9d0cf5ae-ebbc-4e5a-8726-c9a0b36b0dec"
      },
      "execution_count": 118,
      "outputs": [
        {
          "output_type": "execute_result",
          "data": {
            "text/plain": [
              "0    3976\n",
              "1     824\n",
              "Name: BadCredit, dtype: int64"
            ]
          },
          "metadata": {},
          "execution_count": 118
        }
      ]
    },
    {
      "cell_type": "code",
      "source": [
        "#Oversampling the dataset using the RandomOverSampler\n",
        "from imblearn.over_sampling import RandomOverSampler\n",
        "\n",
        "ros = RandomOverSampler()\n",
        "\n",
        "X_resampled,y_resampled = ros.fit_resample(X_train,y_train)\n",
        "X_resampled.shape\n",
        "y_resampled.shape\n",
        "np.bincount(y_resampled)"
      ],
      "metadata": {
        "colab": {
          "base_uri": "https://localhost:8080/",
          "height": 0
        },
        "id": "Zi6VwUV0jNwa",
        "outputId": "ee457265-c71d-46ce-b289-e0ffece54c2f"
      },
      "execution_count": 119,
      "outputs": [
        {
          "output_type": "execute_result",
          "data": {
            "text/plain": [
              "array([3976, 3976])"
            ]
          },
          "metadata": {},
          "execution_count": 119
        }
      ]
    },
    {
      "cell_type": "code",
      "source": [
        "X_resampled.head(2)"
      ],
      "metadata": {
        "colab": {
          "base_uri": "https://localhost:8080/",
          "height": 147
        },
        "id": "EXSYDdSTlKqQ",
        "outputId": "fc3055c4-b0c0-4cba-8a54-3cd97ef00ebb"
      },
      "execution_count": 120,
      "outputs": [
        {
          "output_type": "execute_result",
          "data": {
            "text/html": [
              "<div>\n",
              "<style scoped>\n",
              "    .dataframe tbody tr th:only-of-type {\n",
              "        vertical-align: middle;\n",
              "    }\n",
              "\n",
              "    .dataframe tbody tr th {\n",
              "        vertical-align: top;\n",
              "    }\n",
              "\n",
              "    .dataframe thead th {\n",
              "        text-align: right;\n",
              "    }\n",
              "</style>\n",
              "<table border=\"1\" class=\"dataframe\">\n",
              "  <thead>\n",
              "    <tr style=\"text-align: right;\">\n",
              "      <th></th>\n",
              "      <th>UserID</th>\n",
              "      <th>Sex</th>\n",
              "      <th>PreviousDefault</th>\n",
              "      <th>FirstName</th>\n",
              "      <th>LastName</th>\n",
              "      <th>NumberPets</th>\n",
              "      <th>PreviousAccounts</th>\n",
              "      <th>ResidenceDuration</th>\n",
              "      <th>Street</th>\n",
              "      <th>LicensePlate</th>\n",
              "      <th>Amount</th>\n",
              "      <th>Married</th>\n",
              "      <th>Duration</th>\n",
              "      <th>City</th>\n",
              "      <th>Purpose</th>\n",
              "      <th>DateOfBirth</th>\n",
              "    </tr>\n",
              "  </thead>\n",
              "  <tbody>\n",
              "    <tr>\n",
              "      <th>0</th>\n",
              "      <td>236-22-6766</td>\n",
              "      <td>M</td>\n",
              "      <td>0</td>\n",
              "      <td>Jerry</td>\n",
              "      <td>Black</td>\n",
              "      <td>2</td>\n",
              "      <td>0</td>\n",
              "      <td>2</td>\n",
              "      <td>0466 Brown Wall</td>\n",
              "      <td>3-U8282</td>\n",
              "      <td>3329</td>\n",
              "      <td>0</td>\n",
              "      <td>12</td>\n",
              "      <td>New Roberttown</td>\n",
              "      <td>Household</td>\n",
              "      <td>1970-04-22</td>\n",
              "    </tr>\n",
              "    <tr>\n",
              "      <th>1</th>\n",
              "      <td>766-20-5986</td>\n",
              "      <td>F</td>\n",
              "      <td>0</td>\n",
              "      <td>Julia</td>\n",
              "      <td>Jones</td>\n",
              "      <td>0</td>\n",
              "      <td>2</td>\n",
              "      <td>2</td>\n",
              "      <td>6095 Larson Causeway</td>\n",
              "      <td>LWO 912</td>\n",
              "      <td>2996</td>\n",
              "      <td>0</td>\n",
              "      <td>36</td>\n",
              "      <td>Ericmouth</td>\n",
              "      <td>Household</td>\n",
              "      <td>1964-06-19</td>\n",
              "    </tr>\n",
              "  </tbody>\n",
              "</table>\n",
              "</div>"
            ],
            "text/plain": [
              "        UserID Sex  PreviousDefault  ...            City    Purpose  DateOfBirth\n",
              "0  236-22-6766   M                0  ...  New Roberttown  Household   1970-04-22\n",
              "1  766-20-5986   F                0  ...       Ericmouth  Household   1964-06-19\n",
              "\n",
              "[2 rows x 16 columns]"
            ]
          },
          "metadata": {},
          "execution_count": 120
        }
      ]
    },
    {
      "cell_type": "markdown",
      "source": [
        "I tried running the entire model after balancing the data, but it resulted in overfitting. My ROC_AUC on Training data improved till 95%, but when I ran the model on the Testing data, it came out to be 72%. Therefore, I continued without balancing the data."
      ],
      "metadata": {
        "id": "f3KxzSUH1gXk"
      }
    },
    {
      "cell_type": "markdown",
      "source": [
        "**2. Creating a new column 'Age'**"
      ],
      "metadata": {
        "id": "aweZ77cDk-Yu"
      }
    },
    {
      "cell_type": "code",
      "metadata": {
        "id": "cGQWwVikdw5-"
      },
      "source": [
        "#Importing Datetime package for Date Of Birth field transformation\n",
        "import datetime as dt"
      ],
      "execution_count": 121,
      "outputs": []
    },
    {
      "cell_type": "code",
      "metadata": {
        "id": "742aYkYbprVD"
      },
      "source": [
        "#Instead of removing 'DateOfBirth' field, I will pull the year portion of the date in a column\n",
        "X_train[['DateOfBirth']] = pd.to_datetime(X_train['DateOfBirth'])"
      ],
      "execution_count": 122,
      "outputs": []
    },
    {
      "cell_type": "code",
      "metadata": {
        "id": "pfclTex3fBML"
      },
      "source": [
        "X_train[['Year']] = X_train['DateOfBirth'].dt.year\n",
        "\n",
        "#df['Month'] = df['Date'].dt.month"
      ],
      "execution_count": 123,
      "outputs": []
    },
    {
      "cell_type": "code",
      "metadata": {
        "colab": {
          "base_uri": "https://localhost:8080/",
          "height": 202
        },
        "id": "n7vWW4w_hFfu",
        "outputId": "06c966ee-3181-42f8-81ef-3e8cfca29afc"
      },
      "source": [
        "X_train.head(2)"
      ],
      "execution_count": 124,
      "outputs": [
        {
          "output_type": "execute_result",
          "data": {
            "text/html": [
              "<div>\n",
              "<style scoped>\n",
              "    .dataframe tbody tr th:only-of-type {\n",
              "        vertical-align: middle;\n",
              "    }\n",
              "\n",
              "    .dataframe tbody tr th {\n",
              "        vertical-align: top;\n",
              "    }\n",
              "\n",
              "    .dataframe thead th {\n",
              "        text-align: right;\n",
              "    }\n",
              "</style>\n",
              "<table border=\"1\" class=\"dataframe\">\n",
              "  <thead>\n",
              "    <tr style=\"text-align: right;\">\n",
              "      <th></th>\n",
              "      <th>UserID</th>\n",
              "      <th>Sex</th>\n",
              "      <th>PreviousDefault</th>\n",
              "      <th>FirstName</th>\n",
              "      <th>LastName</th>\n",
              "      <th>NumberPets</th>\n",
              "      <th>PreviousAccounts</th>\n",
              "      <th>ResidenceDuration</th>\n",
              "      <th>Street</th>\n",
              "      <th>LicensePlate</th>\n",
              "      <th>Amount</th>\n",
              "      <th>Married</th>\n",
              "      <th>Duration</th>\n",
              "      <th>City</th>\n",
              "      <th>Purpose</th>\n",
              "      <th>DateOfBirth</th>\n",
              "      <th>Year</th>\n",
              "    </tr>\n",
              "  </thead>\n",
              "  <tbody>\n",
              "    <tr>\n",
              "      <th>3897</th>\n",
              "      <td>236-22-6766</td>\n",
              "      <td>M</td>\n",
              "      <td>0</td>\n",
              "      <td>Jerry</td>\n",
              "      <td>Black</td>\n",
              "      <td>2</td>\n",
              "      <td>0</td>\n",
              "      <td>2</td>\n",
              "      <td>0466 Brown Wall</td>\n",
              "      <td>3-U8282</td>\n",
              "      <td>3329</td>\n",
              "      <td>0</td>\n",
              "      <td>12</td>\n",
              "      <td>New Roberttown</td>\n",
              "      <td>Household</td>\n",
              "      <td>1970-04-22</td>\n",
              "      <td>1970</td>\n",
              "    </tr>\n",
              "    <tr>\n",
              "      <th>5628</th>\n",
              "      <td>766-20-5986</td>\n",
              "      <td>F</td>\n",
              "      <td>0</td>\n",
              "      <td>Julia</td>\n",
              "      <td>Jones</td>\n",
              "      <td>0</td>\n",
              "      <td>2</td>\n",
              "      <td>2</td>\n",
              "      <td>6095 Larson Causeway</td>\n",
              "      <td>LWO 912</td>\n",
              "      <td>2996</td>\n",
              "      <td>0</td>\n",
              "      <td>36</td>\n",
              "      <td>Ericmouth</td>\n",
              "      <td>Household</td>\n",
              "      <td>1964-06-19</td>\n",
              "      <td>1964</td>\n",
              "    </tr>\n",
              "  </tbody>\n",
              "</table>\n",
              "</div>"
            ],
            "text/plain": [
              "           UserID Sex  PreviousDefault  ...    Purpose DateOfBirth  Year\n",
              "3897  236-22-6766   M                0  ...  Household  1970-04-22  1970\n",
              "5628  766-20-5986   F                0  ...  Household  1964-06-19  1964\n",
              "\n",
              "[2 rows x 17 columns]"
            ]
          },
          "metadata": {},
          "execution_count": 124
        }
      ]
    },
    {
      "cell_type": "code",
      "metadata": {
        "id": "FH19p9HahxJq"
      },
      "source": [
        "#We will create another calculated column 'Age', as the data is fairly new, we will subtract Today's Date with the Date of Birth to get the required results\n",
        "from datetime import date\n",
        "\n",
        "def calculate_age(born):\n",
        "  today = datetime.date.today()\n",
        "  return today.year - born.year - ((today.month,today.day)<(born.month,born.day)) \n"
      ],
      "execution_count": 125,
      "outputs": []
    },
    {
      "cell_type": "code",
      "metadata": {
        "id": "8YAwkik6IXqv"
      },
      "source": [
        "#Creating the field 'Age'\n",
        "X_train['age'] = X_train['DateOfBirth'].apply(calculate_age)"
      ],
      "execution_count": 126,
      "outputs": []
    },
    {
      "cell_type": "code",
      "metadata": {
        "colab": {
          "base_uri": "https://localhost:8080/",
          "height": 202
        },
        "id": "gpDtOxdcJCGE",
        "outputId": "179292cc-a748-44ca-fc66-9f26c0bf4a53"
      },
      "source": [
        "X_train.head(2)"
      ],
      "execution_count": 127,
      "outputs": [
        {
          "output_type": "execute_result",
          "data": {
            "text/html": [
              "<div>\n",
              "<style scoped>\n",
              "    .dataframe tbody tr th:only-of-type {\n",
              "        vertical-align: middle;\n",
              "    }\n",
              "\n",
              "    .dataframe tbody tr th {\n",
              "        vertical-align: top;\n",
              "    }\n",
              "\n",
              "    .dataframe thead th {\n",
              "        text-align: right;\n",
              "    }\n",
              "</style>\n",
              "<table border=\"1\" class=\"dataframe\">\n",
              "  <thead>\n",
              "    <tr style=\"text-align: right;\">\n",
              "      <th></th>\n",
              "      <th>UserID</th>\n",
              "      <th>Sex</th>\n",
              "      <th>PreviousDefault</th>\n",
              "      <th>FirstName</th>\n",
              "      <th>LastName</th>\n",
              "      <th>NumberPets</th>\n",
              "      <th>PreviousAccounts</th>\n",
              "      <th>ResidenceDuration</th>\n",
              "      <th>Street</th>\n",
              "      <th>LicensePlate</th>\n",
              "      <th>Amount</th>\n",
              "      <th>Married</th>\n",
              "      <th>Duration</th>\n",
              "      <th>City</th>\n",
              "      <th>Purpose</th>\n",
              "      <th>DateOfBirth</th>\n",
              "      <th>Year</th>\n",
              "      <th>age</th>\n",
              "    </tr>\n",
              "  </thead>\n",
              "  <tbody>\n",
              "    <tr>\n",
              "      <th>3897</th>\n",
              "      <td>236-22-6766</td>\n",
              "      <td>M</td>\n",
              "      <td>0</td>\n",
              "      <td>Jerry</td>\n",
              "      <td>Black</td>\n",
              "      <td>2</td>\n",
              "      <td>0</td>\n",
              "      <td>2</td>\n",
              "      <td>0466 Brown Wall</td>\n",
              "      <td>3-U8282</td>\n",
              "      <td>3329</td>\n",
              "      <td>0</td>\n",
              "      <td>12</td>\n",
              "      <td>New Roberttown</td>\n",
              "      <td>Household</td>\n",
              "      <td>1970-04-22</td>\n",
              "      <td>1970</td>\n",
              "      <td>51</td>\n",
              "    </tr>\n",
              "    <tr>\n",
              "      <th>5628</th>\n",
              "      <td>766-20-5986</td>\n",
              "      <td>F</td>\n",
              "      <td>0</td>\n",
              "      <td>Julia</td>\n",
              "      <td>Jones</td>\n",
              "      <td>0</td>\n",
              "      <td>2</td>\n",
              "      <td>2</td>\n",
              "      <td>6095 Larson Causeway</td>\n",
              "      <td>LWO 912</td>\n",
              "      <td>2996</td>\n",
              "      <td>0</td>\n",
              "      <td>36</td>\n",
              "      <td>Ericmouth</td>\n",
              "      <td>Household</td>\n",
              "      <td>1964-06-19</td>\n",
              "      <td>1964</td>\n",
              "      <td>57</td>\n",
              "    </tr>\n",
              "  </tbody>\n",
              "</table>\n",
              "</div>"
            ],
            "text/plain": [
              "           UserID Sex  PreviousDefault  ... DateOfBirth  Year  age\n",
              "3897  236-22-6766   M                0  ...  1970-04-22  1970   51\n",
              "5628  766-20-5986   F                0  ...  1964-06-19  1964   57\n",
              "\n",
              "[2 rows x 18 columns]"
            ]
          },
          "metadata": {},
          "execution_count": 127
        }
      ]
    },
    {
      "cell_type": "markdown",
      "source": [
        "**3.Applying Ordinal Encoding for the categorical features**"
      ],
      "metadata": {
        "id": "AiA3nuKmllmz"
      }
    },
    {
      "cell_type": "code",
      "metadata": {
        "id": "Cu497AaJLA-L"
      },
      "source": [
        "#Ordinal Encoding the entire dataset\n",
        "from sklearn.preprocessing import OrdinalEncoder\n",
        "enc = OrdinalEncoder()\n",
        "X_train[[\"UserID\",\"Sex\",\"FirstName\",\"LastName\",\"Street\",\"LicensePlate\",\"City\",\"Purpose\"]] = enc.fit_transform(X_train[[\"UserID\",\"Sex\",\"FirstName\",\"LastName\",\"Street\",\"LicensePlate\",\"City\",\"Purpose\"]] )"
      ],
      "execution_count": 129,
      "outputs": []
    },
    {
      "cell_type": "code",
      "metadata": {
        "colab": {
          "base_uri": "https://localhost:8080/",
          "height": 0
        },
        "id": "bIowjPU1LZG_",
        "outputId": "1c8ca40e-5f65-4a81-c385-8042152e7695"
      },
      "source": [
        "X_train.dtypes"
      ],
      "execution_count": 130,
      "outputs": [
        {
          "output_type": "execute_result",
          "data": {
            "text/plain": [
              "UserID                      float64\n",
              "Sex                         float64\n",
              "PreviousDefault               int64\n",
              "FirstName                   float64\n",
              "LastName                    float64\n",
              "NumberPets                    int64\n",
              "PreviousAccounts              int64\n",
              "ResidenceDuration             int64\n",
              "Street                      float64\n",
              "LicensePlate                float64\n",
              "Amount                        int64\n",
              "Married                       int64\n",
              "Duration                      int64\n",
              "City                        float64\n",
              "Purpose                     float64\n",
              "DateOfBirth          datetime64[ns]\n",
              "Year                          int64\n",
              "age                           int64\n",
              "dtype: object"
            ]
          },
          "metadata": {},
          "execution_count": 130
        }
      ]
    },
    {
      "cell_type": "code",
      "metadata": {
        "id": "Pm4h0Mx9OpJ3"
      },
      "source": [
        "#Dropinng Date of Birth field from the dataset\n",
        "X_train.drop(['DateOfBirth'],axis=1,inplace=True)"
      ],
      "execution_count": 131,
      "outputs": []
    },
    {
      "cell_type": "code",
      "metadata": {
        "id": "BDaP3t7GNn7z"
      },
      "source": [
        "#Building the Decision Tree Classifier on the above dataset\n",
        "from sklearn.tree import DecisionTreeClassifier"
      ],
      "execution_count": 132,
      "outputs": []
    },
    {
      "cell_type": "code",
      "metadata": {
        "id": "OcA2TNBBN7D5"
      },
      "source": [
        "dt = DecisionTreeClassifier(criterion='entropy',random_state=16)"
      ],
      "execution_count": 133,
      "outputs": []
    },
    {
      "cell_type": "code",
      "metadata": {
        "colab": {
          "base_uri": "https://localhost:8080/",
          "height": 0
        },
        "id": "9nRAD3yOODPN",
        "outputId": "0fbdb3b6-89e7-4abd-adf6-bb606995151a"
      },
      "source": [
        "#fitting the model into data\n",
        "dt.fit(X_train,y_train)"
      ],
      "execution_count": 134,
      "outputs": [
        {
          "output_type": "execute_result",
          "data": {
            "text/plain": [
              "DecisionTreeClassifier(criterion='entropy', random_state=16)"
            ]
          },
          "metadata": {},
          "execution_count": 134
        }
      ]
    },
    {
      "cell_type": "code",
      "metadata": {
        "colab": {
          "base_uri": "https://localhost:8080/",
          "height": 0
        },
        "id": "TyV8oEtBO07n",
        "outputId": "4da10103-c67d-4899-c44b-b31e5859c6e3"
      },
      "source": [
        "#Evaluating the performance of the model using ROC AUC Metrics\n",
        "from sklearn.model_selection import KFold\n",
        "from sklearn.model_selection import cross_val_score\n",
        "kf2 = KFold(shuffle = True,n_splits = 10)\n",
        "cv_results2 = cross_val_score(dt,X_train,y_train,cv = kf2, scoring ='roc_auc').mean()\n",
        "cv_results2"
      ],
      "execution_count": 135,
      "outputs": [
        {
          "output_type": "execute_result",
          "data": {
            "text/plain": [
              "0.7000262556509577"
            ]
          },
          "metadata": {},
          "execution_count": 135
        }
      ]
    },
    {
      "cell_type": "markdown",
      "metadata": {
        "id": "M5nw_V9jPifp"
      },
      "source": [
        "When comparing the model created after feature engineering, it is observed that the model performance has improved compared to the baseline models performance"
      ]
    },
    {
      "cell_type": "markdown",
      "metadata": {
        "id": "PsdD0clko5pz"
      },
      "source": [
        "## 3.3: Feature selection"
      ]
    },
    {
      "cell_type": "markdown",
      "metadata": {
        "id": "QK70C1DDWxG3"
      },
      "source": [
        "Feature selection is being done using Recursive Feature Selection using Cross Validation"
      ]
    },
    {
      "cell_type": "code",
      "metadata": {
        "id": "hKJbPdYpWwTI"
      },
      "source": [
        "#Importing the required package\n",
        "from sklearn.feature_selection import RFECV,mutual_info_classif\n"
      ],
      "execution_count": 136,
      "outputs": []
    },
    {
      "cell_type": "code",
      "metadata": {
        "id": "hVGHf8QZXL7x"
      },
      "source": [
        "#Fitting the Recursive Feature Selection based on the ROC AUC Score of the model\n",
        "fs = RFECV(dt,scoring='roc_auc')"
      ],
      "execution_count": 137,
      "outputs": []
    },
    {
      "cell_type": "code",
      "metadata": {
        "colab": {
          "base_uri": "https://localhost:8080/",
          "height": 0
        },
        "id": "jaLNIF7FXXwx",
        "outputId": "5bd5703c-bd29-4ec3-81e5-fe93c7afb222"
      },
      "source": [
        "fs.fit(X_train,y_train)"
      ],
      "execution_count": 138,
      "outputs": [
        {
          "output_type": "stream",
          "name": "stderr",
          "text": [
            "/usr/local/lib/python3.7/dist-packages/sklearn/base.py:446: UserWarning: X does not have valid feature names, but RFECV was fitted with feature names\n",
            "  \"X does not have valid feature names, but\"\n"
          ]
        },
        {
          "output_type": "execute_result",
          "data": {
            "text/plain": [
              "RFECV(estimator=DecisionTreeClassifier(criterion='entropy', random_state=16),\n",
              "      scoring='roc_auc')"
            ]
          },
          "metadata": {},
          "execution_count": 138
        }
      ]
    },
    {
      "cell_type": "code",
      "metadata": {
        "colab": {
          "base_uri": "https://localhost:8080/",
          "height": 0
        },
        "id": "ipFBj0h3Xhih",
        "outputId": "e129a801-929e-4370-acab-b6470090c9e7"
      },
      "source": [
        "print('Optimal number of features',fs.n_features_)\n",
        "print('Best Features are:',X_train.columns[fs.support_])"
      ],
      "execution_count": 139,
      "outputs": [
        {
          "output_type": "stream",
          "name": "stdout",
          "text": [
            "Optimal number of features 6\n",
            "Best Features are: Index(['UserID', 'FirstName', 'LastName', 'LicensePlate', 'Amount', 'Year'], dtype='object')\n"
          ]
        }
      ]
    },
    {
      "cell_type": "markdown",
      "source": [
        "The output of RFECV was not very satisfactory, it selected the variables which were not very intuitive, therefore, I will try another feature selection method."
      ],
      "metadata": {
        "id": "vXS0CGL3LFn3"
      }
    },
    {
      "cell_type": "code",
      "metadata": {
        "id": "ftQ6ObcQ8WBj"
      },
      "source": [
        "#Trying another feature selection method as the above one did not give any proper result.\n",
        "#This time i will be using mutual information classification for Feature Selection\n",
        "ms = mutual_info_classif(X_train,y_train,discrete_features='auto',n_neighbors=3)"
      ],
      "execution_count": 140,
      "outputs": []
    },
    {
      "cell_type": "code",
      "metadata": {
        "colab": {
          "base_uri": "https://localhost:8080/",
          "height": 0
        },
        "id": "cGlxn_ACAY6N",
        "outputId": "1c086633-edc5-49de-8c40-1e534b9cdfba"
      },
      "source": [
        "#Determine the columns and their scores\n",
        "high_score_feature = []\n",
        "for score, f_name in sorted(zip(ms,X_train.columns),reverse= True):\n",
        "  print(f_name,score)\n",
        "  high_score_feature.append(f_name)\n",
        "\n",
        "col = X_train[high_score_feature]\n",
        "print(col.columns)"
      ],
      "execution_count": 141,
      "outputs": [
        {
          "output_type": "stream",
          "name": "stdout",
          "text": [
            "Year 0.13178083897110127\n",
            "age 0.1267697015303224\n",
            "Amount 0.11321961533260416\n",
            "Duration 0.007359661941878093\n",
            "City 0.006151416668504162\n",
            "UserID 0.005521825602450292\n",
            "FirstName 0.004740428989970624\n",
            "Street 0.004281709002346368\n",
            "LastName 0.00369441367076373\n",
            "Sex 0.002263310205391056\n",
            "PreviousDefault 0.0019026915972448766\n",
            "ResidenceDuration 0.0018124819811271564\n",
            "Purpose 0.0\n",
            "PreviousAccounts 0.0\n",
            "NumberPets 0.0\n",
            "Married 0.0\n",
            "LicensePlate 0.0\n",
            "Index(['Year', 'age', 'Amount', 'Duration', 'City', 'UserID', 'FirstName',\n",
            "       'Street', 'LastName', 'Sex', 'PreviousDefault', 'ResidenceDuration',\n",
            "       'Purpose', 'PreviousAccounts', 'NumberPets', 'Married', 'LicensePlate'],\n",
            "      dtype='object')\n"
          ]
        }
      ]
    },
    {
      "cell_type": "markdown",
      "metadata": {
        "id": "ZlHHT2cRBhb7"
      },
      "source": [
        "The above scores for the features from Mutal_Info_Classification method is more intuitive. For the purpose of the model, I will consider the Top 6 features and also Previous Accounts. I believe that the number of accounts that a person holds does play a role whether a person will default or not."
      ]
    },
    {
      "cell_type": "code",
      "metadata": {
        "colab": {
          "base_uri": "https://localhost:8080/",
          "height": 112
        },
        "id": "HjKIeBchC00Q",
        "outputId": "45bf84af-66e2-4c5d-ecb1-72debb26b370"
      },
      "source": [
        "#Dropping the features from the model that we donot need\n",
        "X_train.drop(['Duration', 'Street', 'UserID', 'PreviousAccounts',\n",
        "       'Purpose', 'FirstName', 'NumberPets', 'LicensePlate', 'LastName',\n",
        "       'City'], axis = 1,inplace = True)\n",
        "X_train.head(2)"
      ],
      "execution_count": 142,
      "outputs": [
        {
          "output_type": "execute_result",
          "data": {
            "text/html": [
              "<div>\n",
              "<style scoped>\n",
              "    .dataframe tbody tr th:only-of-type {\n",
              "        vertical-align: middle;\n",
              "    }\n",
              "\n",
              "    .dataframe tbody tr th {\n",
              "        vertical-align: top;\n",
              "    }\n",
              "\n",
              "    .dataframe thead th {\n",
              "        text-align: right;\n",
              "    }\n",
              "</style>\n",
              "<table border=\"1\" class=\"dataframe\">\n",
              "  <thead>\n",
              "    <tr style=\"text-align: right;\">\n",
              "      <th></th>\n",
              "      <th>Sex</th>\n",
              "      <th>PreviousDefault</th>\n",
              "      <th>ResidenceDuration</th>\n",
              "      <th>Amount</th>\n",
              "      <th>Married</th>\n",
              "      <th>Year</th>\n",
              "      <th>age</th>\n",
              "    </tr>\n",
              "  </thead>\n",
              "  <tbody>\n",
              "    <tr>\n",
              "      <th>3897</th>\n",
              "      <td>1.0</td>\n",
              "      <td>0</td>\n",
              "      <td>2</td>\n",
              "      <td>3329</td>\n",
              "      <td>0</td>\n",
              "      <td>1970</td>\n",
              "      <td>51</td>\n",
              "    </tr>\n",
              "    <tr>\n",
              "      <th>5628</th>\n",
              "      <td>0.0</td>\n",
              "      <td>0</td>\n",
              "      <td>2</td>\n",
              "      <td>2996</td>\n",
              "      <td>0</td>\n",
              "      <td>1964</td>\n",
              "      <td>57</td>\n",
              "    </tr>\n",
              "  </tbody>\n",
              "</table>\n",
              "</div>"
            ],
            "text/plain": [
              "      Sex  PreviousDefault  ResidenceDuration  Amount  Married  Year  age\n",
              "3897  1.0                0                  2    3329        0  1970   51\n",
              "5628  0.0                0                  2    2996        0  1964   57"
            ]
          },
          "metadata": {},
          "execution_count": 142
        }
      ]
    },
    {
      "cell_type": "code",
      "metadata": {
        "colab": {
          "base_uri": "https://localhost:8080/",
          "height": 0
        },
        "id": "e8Z8MHZqEAZ0",
        "outputId": "06902a04-d2e7-488f-fd43-bd1871660897"
      },
      "source": [
        "#Again creating a Decision Tree mode\n",
        "from sklearn.tree import DecisionTreeClassifier\n",
        "dt2 = DecisionTreeClassifier(criterion='entropy',random_state=16)\n",
        "dt2.fit(X_train,y_train)"
      ],
      "execution_count": 143,
      "outputs": [
        {
          "output_type": "execute_result",
          "data": {
            "text/plain": [
              "DecisionTreeClassifier(criterion='entropy', random_state=16)"
            ]
          },
          "metadata": {},
          "execution_count": 143
        }
      ]
    },
    {
      "cell_type": "code",
      "metadata": {
        "colab": {
          "base_uri": "https://localhost:8080/",
          "height": 0
        },
        "id": "xWJjuBylEcA7",
        "outputId": "fb04232c-5da0-4a54-d1ed-8f8405e62b04"
      },
      "source": [
        "#Evaluating the performance of the model using ROC AUC Metrics\n",
        "from sklearn.model_selection import KFold\n",
        "from sklearn.model_selection import cross_val_score\n",
        "kf3 = KFold(shuffle = True,n_splits = 10)\n",
        "cv_results3 = cross_val_score(dt2,X_train,y_train,cv = kf2, scoring ='roc_auc').mean()\n",
        "cv_results3"
      ],
      "execution_count": 144,
      "outputs": [
        {
          "output_type": "execute_result",
          "data": {
            "text/plain": [
              "0.715958145297179"
            ]
          },
          "metadata": {},
          "execution_count": 144
        }
      ]
    },
    {
      "cell_type": "markdown",
      "metadata": {
        "id": "WG81r7UTEn23"
      },
      "source": [
        "After feature selection, the Decision Tree gave even better results compared to the model we got in Step 2"
      ]
    },
    {
      "cell_type": "markdown",
      "metadata": {
        "id": "Ff4l2aNKo5fr"
      },
      "source": [
        "## 3.4: Hyperparameter tuning"
      ]
    },
    {
      "cell_type": "code",
      "metadata": {
        "id": "7XaxtTWMpIpP"
      },
      "source": [
        "#Hyperparameter tuning for Decision Tree Model\n",
        "#Creating a List of parameters to be tuned. For Decision Tree, we will tune Criterion,Max_depth,Max_leaf_nodes,Min_samples_leaf & Min_samples_split\n",
        "params = {\n",
        "    'criterion':('gini','entropy'),\n",
        "    'max_depth':[2,10,50,100,200],\n",
        "    'min_samples_split':[2,3,4,5],\n",
        "    }"
      ],
      "execution_count": 145,
      "outputs": []
    },
    {
      "cell_type": "code",
      "metadata": {
        "id": "iUUa8RsUA4zj"
      },
      "source": [
        "#Importing the required package for GridSearchCV\n",
        "from sklearn.model_selection import GridSearchCV\n",
        "grid = GridSearchCV(dt2,params,cv = 5,scoring = 'roc_auc')"
      ],
      "execution_count": 146,
      "outputs": []
    },
    {
      "cell_type": "code",
      "metadata": {
        "colab": {
          "base_uri": "https://localhost:8080/",
          "height": 0
        },
        "id": "yyDmo_tLBUJQ",
        "outputId": "b255adc4-de64-4601-e8fd-102bd02fd120"
      },
      "source": [
        "grid.fit(X_train,y_train)"
      ],
      "execution_count": 147,
      "outputs": [
        {
          "output_type": "execute_result",
          "data": {
            "text/plain": [
              "GridSearchCV(cv=5,\n",
              "             estimator=DecisionTreeClassifier(criterion='entropy',\n",
              "                                              random_state=16),\n",
              "             param_grid={'criterion': ('gini', 'entropy'),\n",
              "                         'max_depth': [2, 10, 50, 100, 200],\n",
              "                         'min_samples_split': [2, 3, 4, 5]},\n",
              "             scoring='roc_auc')"
            ]
          },
          "metadata": {},
          "execution_count": 147
        }
      ]
    },
    {
      "cell_type": "code",
      "metadata": {
        "colab": {
          "base_uri": "https://localhost:8080/",
          "height": 0
        },
        "id": "UM8uGgXSCDIt",
        "outputId": "1c17c097-3e6e-4405-a7cd-eb13f09d0b1c"
      },
      "source": [
        "#Getting the model score with the best hyperparameters\n",
        "grid.best_score_"
      ],
      "execution_count": 148,
      "outputs": [
        {
          "output_type": "execute_result",
          "data": {
            "text/plain": [
              "0.8697045435916749"
            ]
          },
          "metadata": {},
          "execution_count": 148
        }
      ]
    },
    {
      "cell_type": "code",
      "metadata": {
        "colab": {
          "base_uri": "https://localhost:8080/",
          "height": 0
        },
        "id": "5VgFHFryCMqU",
        "outputId": "a18fd8ca-a3ce-4c29-c880-0e19c891001f"
      },
      "source": [
        "#The best parameters determined by Cross Validation\n",
        "grid.best_params_"
      ],
      "execution_count": 149,
      "outputs": [
        {
          "output_type": "execute_result",
          "data": {
            "text/plain": [
              "{'criterion': 'entropy', 'max_depth': 2, 'min_samples_split': 2}"
            ]
          },
          "metadata": {},
          "execution_count": 149
        }
      ]
    },
    {
      "cell_type": "markdown",
      "metadata": {
        "id": "Te9gGGLEpXRG"
      },
      "source": [
        "## 3.5: Performance estimation"
      ]
    },
    {
      "cell_type": "markdown",
      "metadata": {
        "id": "0oeeoM-FSrRn"
      },
      "source": [
        "**Transforming the Test Dataset as per the Training**"
      ]
    },
    {
      "cell_type": "code",
      "metadata": {
        "id": "YV_35bEupbfs"
      },
      "source": [
        "#1.Creating Age Column in the Test Dataset\n",
        "X_test[['DateOfBirth']] = pd.to_datetime(X_test['DateOfBirth'])\n",
        "X_test[['Year']] = X_test['DateOfBirth'].dt.year\n",
        "X_test['age'] = X_test['DateOfBirth'].apply(calculate_age)"
      ],
      "execution_count": 150,
      "outputs": []
    },
    {
      "cell_type": "code",
      "source": [
        "X_test.head(2)"
      ],
      "metadata": {
        "colab": {
          "base_uri": "https://localhost:8080/",
          "height": 236
        },
        "id": "UumLKbjJyDrB",
        "outputId": "b8ccf943-3d3e-4b75-e944-c259e18a9ee2"
      },
      "execution_count": 151,
      "outputs": [
        {
          "output_type": "execute_result",
          "data": {
            "text/html": [
              "<div>\n",
              "<style scoped>\n",
              "    .dataframe tbody tr th:only-of-type {\n",
              "        vertical-align: middle;\n",
              "    }\n",
              "\n",
              "    .dataframe tbody tr th {\n",
              "        vertical-align: top;\n",
              "    }\n",
              "\n",
              "    .dataframe thead th {\n",
              "        text-align: right;\n",
              "    }\n",
              "</style>\n",
              "<table border=\"1\" class=\"dataframe\">\n",
              "  <thead>\n",
              "    <tr style=\"text-align: right;\">\n",
              "      <th></th>\n",
              "      <th>UserID</th>\n",
              "      <th>Sex</th>\n",
              "      <th>PreviousDefault</th>\n",
              "      <th>FirstName</th>\n",
              "      <th>LastName</th>\n",
              "      <th>NumberPets</th>\n",
              "      <th>PreviousAccounts</th>\n",
              "      <th>ResidenceDuration</th>\n",
              "      <th>Street</th>\n",
              "      <th>LicensePlate</th>\n",
              "      <th>Amount</th>\n",
              "      <th>Married</th>\n",
              "      <th>Duration</th>\n",
              "      <th>City</th>\n",
              "      <th>Purpose</th>\n",
              "      <th>DateOfBirth</th>\n",
              "      <th>Year</th>\n",
              "      <th>age</th>\n",
              "    </tr>\n",
              "  </thead>\n",
              "  <tbody>\n",
              "    <tr>\n",
              "      <th>1782</th>\n",
              "      <td>435-05-4551</td>\n",
              "      <td>F</td>\n",
              "      <td>0</td>\n",
              "      <td>Tanya</td>\n",
              "      <td>Conner</td>\n",
              "      <td>1</td>\n",
              "      <td>1</td>\n",
              "      <td>3</td>\n",
              "      <td>4508 Crystal Rue Suite 173</td>\n",
              "      <td>HCY 571</td>\n",
              "      <td>3773</td>\n",
              "      <td>0</td>\n",
              "      <td>36</td>\n",
              "      <td>North Judithbury</td>\n",
              "      <td>NewCar</td>\n",
              "      <td>1970-10-15</td>\n",
              "      <td>1970</td>\n",
              "      <td>51</td>\n",
              "    </tr>\n",
              "    <tr>\n",
              "      <th>3917</th>\n",
              "      <td>541-06-3756</td>\n",
              "      <td>F</td>\n",
              "      <td>0</td>\n",
              "      <td>Tammy</td>\n",
              "      <td>Brennan</td>\n",
              "      <td>0</td>\n",
              "      <td>0</td>\n",
              "      <td>3</td>\n",
              "      <td>6932 Stevenson Falls Suite 044</td>\n",
              "      <td>52A TE2</td>\n",
              "      <td>3412</td>\n",
              "      <td>0</td>\n",
              "      <td>24</td>\n",
              "      <td>Lake Roberto</td>\n",
              "      <td>UsedCar</td>\n",
              "      <td>1963-09-01</td>\n",
              "      <td>1963</td>\n",
              "      <td>58</td>\n",
              "    </tr>\n",
              "  </tbody>\n",
              "</table>\n",
              "</div>"
            ],
            "text/plain": [
              "           UserID Sex  PreviousDefault  ... DateOfBirth  Year  age\n",
              "1782  435-05-4551   F                0  ...  1970-10-15  1970   51\n",
              "3917  541-06-3756   F                0  ...  1963-09-01  1963   58\n",
              "\n",
              "[2 rows x 18 columns]"
            ]
          },
          "metadata": {},
          "execution_count": 151
        }
      ]
    },
    {
      "cell_type": "code",
      "metadata": {
        "id": "v3KJt2XnSqKv"
      },
      "source": [
        "#2.Ordinal Encoding the entire dataset\n",
        "X_test[[\"UserID\",\"Sex\",\"FirstName\",\"LastName\",\"Street\",\"LicensePlate\",\"City\",\"Purpose\"]] = enc.fit_transform(X_test[[\"UserID\",\"Sex\",\"FirstName\",\"LastName\",\"Street\",\"LicensePlate\",\"City\",\"Purpose\"]] )"
      ],
      "execution_count": 153,
      "outputs": []
    },
    {
      "cell_type": "code",
      "metadata": {
        "colab": {
          "base_uri": "https://localhost:8080/",
          "height": 112
        },
        "id": "5t7akoq0TjhI",
        "outputId": "a983aad0-61cd-48ea-f4ac-8a9bb67c3f31"
      },
      "source": [
        "#3.Removing features which are not important\n",
        "X_test.drop(['Duration', 'Street', 'UserID', 'PreviousAccounts',\n",
        "       'Purpose', 'FirstName', 'NumberPets', 'LicensePlate', 'LastName',\n",
        "       'City'], axis = 1,inplace = True)\n",
        "X_test.drop(['DateOfBirth'], axis = 1,inplace = True)\n",
        "\n",
        "X_test.head(2)"
      ],
      "execution_count": 154,
      "outputs": [
        {
          "output_type": "execute_result",
          "data": {
            "text/html": [
              "<div>\n",
              "<style scoped>\n",
              "    .dataframe tbody tr th:only-of-type {\n",
              "        vertical-align: middle;\n",
              "    }\n",
              "\n",
              "    .dataframe tbody tr th {\n",
              "        vertical-align: top;\n",
              "    }\n",
              "\n",
              "    .dataframe thead th {\n",
              "        text-align: right;\n",
              "    }\n",
              "</style>\n",
              "<table border=\"1\" class=\"dataframe\">\n",
              "  <thead>\n",
              "    <tr style=\"text-align: right;\">\n",
              "      <th></th>\n",
              "      <th>Sex</th>\n",
              "      <th>PreviousDefault</th>\n",
              "      <th>ResidenceDuration</th>\n",
              "      <th>Amount</th>\n",
              "      <th>Married</th>\n",
              "      <th>Year</th>\n",
              "      <th>age</th>\n",
              "    </tr>\n",
              "  </thead>\n",
              "  <tbody>\n",
              "    <tr>\n",
              "      <th>1782</th>\n",
              "      <td>0.0</td>\n",
              "      <td>0</td>\n",
              "      <td>3</td>\n",
              "      <td>3773</td>\n",
              "      <td>0</td>\n",
              "      <td>1970</td>\n",
              "      <td>51</td>\n",
              "    </tr>\n",
              "    <tr>\n",
              "      <th>3917</th>\n",
              "      <td>0.0</td>\n",
              "      <td>0</td>\n",
              "      <td>3</td>\n",
              "      <td>3412</td>\n",
              "      <td>0</td>\n",
              "      <td>1963</td>\n",
              "      <td>58</td>\n",
              "    </tr>\n",
              "  </tbody>\n",
              "</table>\n",
              "</div>"
            ],
            "text/plain": [
              "      Sex  PreviousDefault  ResidenceDuration  Amount  Married  Year  age\n",
              "1782  0.0                0                  3    3773        0  1970   51\n",
              "3917  0.0                0                  3    3412        0  1963   58"
            ]
          },
          "metadata": {},
          "execution_count": 154
        }
      ]
    },
    {
      "cell_type": "code",
      "metadata": {
        "id": "pXibWLCWVrJ3"
      },
      "source": [
        "pred = grid.predict(X_test)"
      ],
      "execution_count": 155,
      "outputs": []
    },
    {
      "cell_type": "code",
      "metadata": {
        "colab": {
          "base_uri": "https://localhost:8080/",
          "height": 0
        },
        "id": "wlDbd4wwXhim",
        "outputId": "ef811861-a89a-4b05-8530-d85db6bcd777"
      },
      "source": [
        "#Determining the ROC AUC Score when the model is fitted to the 'Test' dataset\n",
        "from sklearn.metrics import roc_auc_score\n",
        "roc_auc_score(y_test,pred)"
      ],
      "execution_count": 156,
      "outputs": [
        {
          "output_type": "execute_result",
          "data": {
            "text/plain": [
              "0.8115720914063895"
            ]
          },
          "metadata": {},
          "execution_count": 156
        }
      ]
    },
    {
      "cell_type": "markdown",
      "metadata": {
        "id": "bPiErnUaTQSk"
      },
      "source": [
        "# Question 4: Uncle Steve's Wind Farm"
      ]
    },
    {
      "cell_type": "markdown",
      "metadata": {
        "id": "NzLLQCmKTk9E"
      },
      "source": [
        "## Instructions\n",
        "\n",
        "\n",
        "Uncle Steve has invested in wind. He's built a BIG wind farm with a total of  700 turbines. He's been running the farm for a couple of years now and things are going well. He sells the power generated by the farm to the Kingston government and makes a tidy profit. And, of course, he has been gathering data about the turbines' operations.\n",
        "\n",
        "One area of concern, however, is the cost of maintenece. While the turbines are fairly robust, it seems like one breaks/fails every couple of days. When a turbine fails, it usually costs around \\$20,000 to repair it. Yikes!\n",
        "\n",
        "Currently, Uncle Steve is not doing any preventative maintenance. He just waits until a turbine fails, and then he fixes it. But Uncle Steve has recently learned that if he services a turbine *before* it fails, it will only cost around $2,000. \n",
        "\n",
        "Obviously, there is a potential to save a lot of money here. But first, Uncle Steve would need to figure out *which* turbines are about to fail. Uncle Steve being Uncle Steve, he wants to use ML to build a predictive maintenance model. The model will alert Uncle Steve to potential turbine failures before they happen, giving Uncle Steve a chance to perform an inspection on the turbine and then fix the turbine before it fails. Uncle Steve plans to run the model every morning. For all the turbines that the model predicts will fail, Uncle Steve will order an inspection (which cost a flat \\$500, no matter if the turbine was in good health or not; the \\$500 would not be part of the $2,000 service cost). For the rest of the turbines, Uncle Steve will do nothing.\n",
        "\n",
        "Uncle Steve has used the last few year's worth of operation data to build and assess a model to predict which turbines will fail on any given day. (The data includes useful features like sensor readings, power output, weather, and many more, but those are not important for now.) In fact, he didn't stop there: he built and assessed two models. One model uses using deep learning (in this case, RNNs), and the other uses random forests.\n",
        "\n",
        "He's tuned the bejeebers out of each model and is comfortable that he has found the best-performing version of each. Both models seem really good: both have accuracy scores > 99%. The RNN has better recall, but Uncle Steve is convinced that the random forest model will be better for him since it has better precision. Just to be sure, he has hired you to double check his calculations. \n",
        "\n",
        "**Your task**\n",
        "\n",
        " Which model will save Uncle Steve more money? Justify.\n",
        "\n",
        "\n",
        "In addition to the details above, here is the assessment of each model:\n",
        "\n",
        "- Confusion matrix for the random forest:\n",
        "\n",
        "|         | Predicted Fail           | Predicted No Fail  |\n",
        "| ------------- |------------| -----:|\n",
        "| **Actual Fail**      | 201 | 55 |\n",
        "| **Actual No Fail**   | 50 | 255195 |\n",
        "\n",
        "- Confusion matrix for the RNN:\n",
        "\n",
        "|         | Predicted Fail           | Predicted No Fail  |\n",
        "| ------------- |------------| -----:|\n",
        "| **Actual Fail**      | 226 | 30 |\n",
        "| **Actual No Fail**   | 1200 | 254045 |\n",
        "\n",
        "\n",
        "**Marking**\n",
        "\n",
        "- *Quality*. Response is well-justified and convincing. \n",
        "- *Style*. Response uses proper grammar, spelling, and punctuation. Response is clear and professional. Response is complete, but not overly-verbose. Response follows length guidelines.\n",
        "\n",
        "\n",
        "\n",
        "**Tips**\n",
        "\n",
        "- Figure out how much Uncle Steve is currently (i.e., without any predictive maintinance models) paying in maintenance costs.\n",
        "- Use the information provided above to create a cost matrix.\n",
        "- Use the cost matrix and the confusion matrices to determine the costs of each model.\n",
        "- The cost of an inspection is the same, no matter if the turbine is in good condition or is about to fail.\n",
        "- If the inspection determines that a turbine is about to fail, then it will be fixed right then and there for the additional fee.\n",
        "- For simplicity, assume the inspections are perfect: i.e., that inspecting a turbine will definitely catch any problems that might exist, and won't accidentally flag an otherwise-healthy turbine.\n",
        "\n"
      ]
    },
    {
      "cell_type": "markdown",
      "source": [
        "##Answers:"
      ],
      "metadata": {
        "id": "yhhCnAH2Q4Pq"
      }
    },
    {
      "cell_type": "markdown",
      "metadata": {
        "id": "nAf1SIeKTkfl"
      },
      "source": [
        "\n",
        "Uncle Steve's belief that Random Forest model will do a better job in predicting the failure of turbines compared to RNN model is correct.Based on performance metrics analysis Random Forest model is high on both Precision and Recall, that is to say that the model will have high confidence with its TRUE POSITIVE (Failure Prediction) and will also has less probability of making Type II Error'. On the other hand, RNN model, though is high on Recall, has very low Precision, that is to say, we cannot be very confident with the prediction result of RNN model.This will be elaborated further with Cost and Savings Calculations.\n",
        "\n",
        "![image.png](data:image/png;base64,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)\n"
      ]
    },
    {
      "cell_type": "markdown",
      "source": [
        "Without any action, Uncle Steve incurrs a cost of CAD 300,000 each month. If we annualize it, then it becomes CAD3,600,000, which is a big amount. The assumption here is that 15 days out 30 days in a month, a turbine break fails (one breaks/fails every couple of days).\n",
        "\n",
        "![image.png](data:image/png;base64,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)"
      ],
      "metadata": {
        "id": "bGr2l55RQp0M"
      }
    },
    {
      "cell_type": "markdown",
      "source": [
        "Uncle Steve should use Random Forest as it will result in saving CAD 137,500 more compared to what he will save when using RNN model for prediction. The Annual Cost of Maintenance Incurred by Uncle Steve when using Random Forest model will be CAD 1,627,494, while RNN model will result in annual cost of $1,764,993. The higher cost in RNN model is due to the fact that it has low precision, as a result it has higher False Positive instances because of which the cost incurred for investigation gets increased.\n",
        "\n",
        "![image.png](data:image/png;base64,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)"
      ],
      "metadata": {
        "id": "UzA5-cCuUj9s"
      }
    }
  ]
}